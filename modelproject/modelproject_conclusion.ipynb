{
 "cells": [
  {
   "cell_type": "markdown",
   "metadata": {},
   "source": [
    "# Consumer optimization problem and Ramsey Model"
   ]
  },
  {
   "cell_type": "markdown",
   "metadata": {},
   "source": [
    "Imports and set magics:"
   ]
  },
  {
   "cell_type": "code",
   "execution_count": 1,
   "metadata": {},
   "outputs": [],
   "source": [
    "import numpy as np\n",
    "from scipy import optimize\n",
    "from scipy import linalg\n",
    "from scipy import interpolate \n",
    "import sympy as sm\n",
    "import mpmath as mp\n",
    "\n",
    "# autoreload modules when code is run\n",
    "%load_ext autoreload\n",
    "%autoreload 2\n",
    "\n",
    "# local modules\n",
    "import modelproject"
   ]
  },
  {
   "cell_type": "code",
   "execution_count": 2,
   "metadata": {},
   "outputs": [],
   "source": [
    "%matplotlib inline \n",
    "import matplotlib.pyplot as plt\n",
    "plt.style.use('seaborn-whitegrid')\n",
    "from matplotlib import cm\n",
    "from mpl_toolkits.mplot3d import Axes3D"
   ]
  },
  {
   "cell_type": "markdown",
   "metadata": {},
   "source": [
    "## Intertemporal consumer optimization"
   ]
  },
  {
   "cell_type": "markdown",
   "metadata": {},
   "source": [
    "First we consider consumer with **utility function** under period t and  where:\n",
    "\n",
    "**utility** is given by $$u(c_t) = \\frac{c^{1-\\theta}}{1-\\theta} $$.\n",
    "\n",
    "suppose consumer can live two periods: today and tomorrow, with the discount factor $\\beta$, consumer's lifelong utility is:\n",
    "\n",
    "$$ u(c_0,c_1) = \\frac{c_0^{1-\\theta}}{1-\\theta} + \\beta \\frac{c_1^{1-\\theta}}{1-\\theta} $$\n",
    "\n",
    "the customer is trying to solve utility maximization problem with **intertemporal budet constraint**\n",
    "\n",
    "$$ c_0 + \\frac{c_1}{1+r} = w_0 + \\frac{w_1}{1+r} $$\n",
    "\n",
    "where $w_0$ is the income for today, $w_1$ is the income tomorrow, r is discount rate"
   ]
  },
  {
   "cell_type": "code",
   "execution_count": 3,
   "metadata": {},
   "outputs": [],
   "source": [
    "# define parameter values\n",
    "theta = 0.4 \n",
    "beta = 0.7\n",
    "w0 = 20 \n",
    "w1 = 10\n",
    "r = 0.05"
   ]
  },
  {
   "cell_type": "markdown",
   "metadata": {},
   "source": [
    "From FOC we have $$ c_0^{-\\theta} = \\beta(1+r)c_1^{-\\theta} $$\n",
    "$$ c_0 + \\frac{c_1}{1+r} = w_0 + \\frac{w_1}{1+r} $$"
   ]
  },
  {
   "cell_type": "code",
   "execution_count": 4,
   "metadata": {},
   "outputs": [],
   "source": [
    "# Define implicit functions using result from the FOC\n",
    "def function_0(c0, c1): \n",
    "    \"\"\"\n",
    "    \n",
    "    Implicit function derived from the Euler equation.\n",
    "    \"\"\"\n",
    "    return c0**(-theta)-beta*(1+r)*c1**(-theta)\n",
    "    \n",
    "def function_1(c0, c1): \n",
    "    \"\"\"\n",
    "    \n",
    "    Implicit function derived from the budget constraint.\n",
    "    \"\"\"\n",
    "    return w0+(1/(1+r))*w1-c0-(1/(1+r))*c1\n"
   ]
  },
  {
   "cell_type": "code",
   "execution_count": 5,
   "metadata": {},
   "outputs": [],
   "source": [
    "# Fefine a function that optimize consumption bundle\n",
    "def optimal_bundle(X):\n",
    "    result = [function_0(X[0], X[1])]\n",
    "    result.append(function_1(X[0], X[1]))\n",
    "    return result\n",
    "\n",
    "# Apply fsolve()...note that we need to give the algorithm a decent guess!\n",
    "c0_initial, c1_initial = 1, 1\n",
    "c0_star, c1_star = optimize.fsolve(func=optimal_bundle, x0=(c0_initial, c1_initial))"
   ]
  },
  {
   "cell_type": "code",
   "execution_count": 6,
   "metadata": {},
   "outputs": [
    {
     "name": "stdout",
     "output_type": "stream",
     "text": [
      "Optimal choice of c0 is: 20.487111357724327\n",
      "Optimal choice of c1 is: 9.48853307438946\n"
     ]
    }
   ],
   "source": [
    "print (\"Optimal choice of c0 is:\", c0_star)\n",
    "print (\"Optimal choice of c1 is:\", c1_star)"
   ]
  },
  {
   "cell_type": "markdown",
   "metadata": {
    "toc-hr-collapsed": true
   },
   "source": [
    "## Ramsey Model"
   ]
  },
  {
   "cell_type": "markdown",
   "metadata": {},
   "source": [
    "We consider the **Ramsey Model** from macro 3, in which we have sectors:\n",
    "\n",
    "**Households** own capital, supply labor and consume\n",
    "**Firm** give out capital and hire labor for production\n",
    "\n",
    "there are 4 variables\n",
    "**capital**: ${K_t}$\n",
    "**labor**: ${L_t}$\n",
    "**output**: ${Y_t}$\n",
    "**consumption**: ${C_t}$\n",
    "\n",
    "for individuals there are\n",
    "output per capita ${y_t}$ = ${Y_t}$/ ${L_t}$, capital per capita ${k_t}$ = ${K_t}$/${L_t}$, consumption per capita ${c_t}$ = ${C_t}$/${L_t}$\n",
    "\n",
    "**prices** are taken as given by households and firms \n",
    "${r_t}$: capital rent rate\n",
    "${w_t}$: wage rate\n",
    "\n",
    "return on capital owned by households, depreciation rate $\\delta$>0\n",
    "$$ {R_t} = 1 + {r_t} - {\\delta} $$"
   ]
  },
  {
   "cell_type": "markdown",
   "metadata": {},
   "source": [
    "**Firms** production function is given by:\n",
    "$$ Y_t = F(K_t,L_t) = f(k_t)L_t $$\n",
    "\n",
    "Firm profit maximization:\n",
    "$$ max_{k_t,l_t} f(k_t)L_t - r_tK_t - w_tL_t $$\n",
    "\n",
    "With FOC\n",
    "$$ f'(k_t) = r_t $$\n",
    "$$ f(k_t) - f'(k_t)k_t = w_t $$"
   ]
  },
  {
   "cell_type": "markdown",
   "metadata": {},
   "source": [
    "consider the case with **Cobb-Douglas Production** function:\n",
    "$$ F(K_t,L_t) = AK^{\\alpha}L^{1-\\alpha} $$\n",
    "\n",
    "$$f(k_t) = Ak_t^{\\alpha} $$\n",
    "\n",
    "and now $$ r_t = A{\\alpha}k_t^{\\alpha-1}$$, $$w_t=  A(1-\\alpha)k_t^{\\alpha} $$"
   ]
  },
  {
   "cell_type": "markdown",
   "metadata": {},
   "source": [
    "**Households** maximize utility from consumption:\n",
    "$$ max_{c_t} \\sum_{t=0}^{\\infty} \\beta^t u(c_t), u'>0, u''<0 $$ \n",
    "\n",
    "under resource constraint \n",
    "$$ k_{t+1} = R_tk_t + w_t - c_t $$\n",
    "\n",
    "with given $k_0 $, $ ({R_t})_{t=0}^{\\infty} $ and  $ ({w_t})_{t=0}^{\\infty} $\n",
    "\n",
    "euler equation $$\\frac{u'(c_t)}{u'(c_{t+1})} = \\beta{R_{t+1}} $$\n",
    "\n",
    "set $\\theta$ = 1 thus *CRRA utility* function becomes $$u(c_t) = \\log( c_t )$$"
   ]
  },
  {
   "cell_type": "markdown",
   "metadata": {},
   "source": [
    "## Analytical solution for Steady State"
   ]
  },
  {
   "cell_type": "markdown",
   "metadata": {},
   "source": [
    "First we define all **symbols**:"
   ]
  },
  {
   "cell_type": "code",
   "execution_count": 7,
   "metadata": {},
   "outputs": [],
   "source": [
    "u = sm.symbols('u')\n",
    "c0 = sm.symbols('c_t')\n",
    "c1 = sm.symbols('c_{t+1}')\n",
    "beta = sm.symbols('beta')\n",
    "R = sm.symbols('R_{t+1}')\n",
    "r = sm.symbols('r_t')\n",
    "delta = sm.symbols('delta')\n",
    "A = sm.symbols('A')\n",
    "alpha = sm.symbols('alpha')\n",
    "k = sm.symbols('k_t')\n",
    "w = sm.symbols('w_t')\n",
    "k_star = sm.symbols('k^*')\n",
    "c_star = sm.symbols('c^*')\n",
    "\n",
    "r = A*alpha* k **(alpha-1)\n",
    "w = A*(1-alpha)*k**alpha\n",
    "R = 1 + r - delta\n",
    "k1 = R*k + w - c0"
   ]
  },
  {
   "cell_type": "markdown",
   "metadata": {},
   "source": [
    "utility function of 2 time period "
   ]
  },
  {
   "cell_type": "code",
   "execution_count": 8,
   "metadata": {},
   "outputs": [],
   "source": [
    "u0 = sm.log(c0)\n",
    "u1 = sm.log(c1)"
   ]
  },
  {
   "cell_type": "markdown",
   "metadata": {},
   "source": [
    "derive euler equation "
   ]
  },
  {
   "cell_type": "code",
   "execution_count": 9,
   "metadata": {},
   "outputs": [
    {
     "data": {
      "text/latex": [
       "$\\displaystyle \\frac{c_{t+1}}{c_{t}} = \\beta \\left(A \\alpha k_{t}^{\\alpha - 1} - \\delta + 1\\right)$"
      ],
      "text/plain": [
       "Eq(c_{t+1}/c_t, beta*(A*alpha*k_t**(alpha - 1) - delta + 1))"
      ]
     },
     "execution_count": 9,
     "metadata": {},
     "output_type": "execute_result"
    }
   ],
   "source": [
    "euler = sm.Eq(sm.diff(u0,c0)/sm.diff(u1,c1), beta*R)\n",
    "euler"
   ]
  },
  {
   "cell_type": "markdown",
   "metadata": {},
   "source": [
    "solve euler equation "
   ]
  },
  {
   "cell_type": "code",
   "execution_count": 10,
   "metadata": {},
   "outputs": [
    {
     "data": {
      "text/latex": [
       "$\\displaystyle c_{t+1} = \\beta c_{t} \\left(A \\alpha k_{t}^{\\alpha - 1} - \\delta + 1\\right)$"
      ],
      "text/plain": [
       "Eq(c_{t+1}, beta*c_t*(A*alpha*k_t**(alpha - 1) - delta + 1))"
      ]
     },
     "execution_count": 10,
     "metadata": {},
     "output_type": "execute_result"
    }
   ],
   "source": [
    "sol = sm.solve(euler, c1)\n",
    "sm.Eq(c1,sol[0])"
   ]
  },
  {
   "cell_type": "markdown",
   "metadata": {},
   "source": [
    "when under steady state $c_t = c_{t+1}$, $k_t = k_{t+1}$, thus"
   ]
  },
  {
   "cell_type": "code",
   "execution_count": 11,
   "metadata": {},
   "outputs": [
    {
     "data": {
      "text/latex": [
       "$\\displaystyle \\beta c_{t} \\left(A \\alpha k_{t}^{\\alpha - 1} - \\delta + 1\\right) = c_{t}$"
      ],
      "text/plain": [
       "Eq(beta*c_t*(A*alpha*k_t**(alpha - 1) - delta + 1), c_t)"
      ]
     },
     "execution_count": 11,
     "metadata": {},
     "output_type": "execute_result"
    }
   ],
   "source": [
    "c_steadystate = sm.Eq(sol[0],c0)\n",
    "c_steadystate"
   ]
  },
  {
   "cell_type": "code",
   "execution_count": 12,
   "metadata": {},
   "outputs": [],
   "source": [
    "c_sol = sm.solve(c_steadystate,k)"
   ]
  },
  {
   "cell_type": "code",
   "execution_count": 13,
   "metadata": {},
   "outputs": [
    {
     "data": {
      "text/latex": [
       "$\\displaystyle k^{*} = \\left(\\frac{\\beta \\left(\\delta - 1\\right) + 1}{A \\alpha \\beta}\\right)^{\\frac{1}{\\alpha - 1}}$"
      ],
      "text/plain": [
       "Eq(k^*, ((beta*(delta - 1) + 1)/(A*alpha*beta))**(1/(alpha - 1)))"
      ]
     },
     "execution_count": 13,
     "metadata": {},
     "output_type": "execute_result"
    }
   ],
   "source": [
    "sm.Eq(k_star,c_sol[0])"
   ]
  },
  {
   "cell_type": "markdown",
   "metadata": {},
   "source": [
    "Then we define the **steady state capital**"
   ]
  },
  {
   "cell_type": "code",
   "execution_count": 14,
   "metadata": {},
   "outputs": [
    {
     "data": {
      "text/latex": [
       "$\\displaystyle k_{t} = A k_{t}^{\\alpha} \\left(1 - \\alpha\\right) - c_{t} + k_{t} \\left(A \\alpha k_{t}^{\\alpha - 1} - \\delta + 1\\right)$"
      ],
      "text/plain": [
       "Eq(k_t, A*k_t**alpha*(1 - alpha) - c_t + k_t*(A*alpha*k_t**(alpha - 1) - delta + 1))"
      ]
     },
     "execution_count": 14,
     "metadata": {},
     "output_type": "execute_result"
    }
   ],
   "source": [
    "k_steadystate = sm.Eq(k,k1)\n",
    "k_steadystate"
   ]
  },
  {
   "cell_type": "markdown",
   "metadata": {},
   "source": [
    "and **solve** it"
   ]
  },
  {
   "cell_type": "code",
   "execution_count": 15,
   "metadata": {},
   "outputs": [
    {
     "data": {
      "text/latex": [
       "$\\displaystyle c^{*} = A k_{t}^{\\alpha} - \\delta k_{t}$"
      ],
      "text/plain": [
       "Eq(c^*, A*k_t**alpha - delta*k_t)"
      ]
     },
     "execution_count": 15,
     "metadata": {},
     "output_type": "execute_result"
    }
   ],
   "source": [
    "k_sol = sm.solve(k_steadystate,c0)[0]\n",
    "sm.Eq(c_star,k_sol)"
   ]
  },
  {
   "cell_type": "markdown",
   "metadata": {},
   "source": [
    "Define the model **parameters**:"
   ]
  },
  {
   "cell_type": "code",
   "execution_count": 16,
   "metadata": {},
   "outputs": [],
   "source": [
    "A = 1\n",
    "alpha = 0.4\n",
    "delta = 0.1\n",
    "beta = 0.7"
   ]
  },
  {
   "cell_type": "markdown",
   "metadata": {},
   "source": [
    "## Numerical solution"
   ]
  },
  {
   "cell_type": "code",
   "execution_count": 17,
   "metadata": {},
   "outputs": [],
   "source": [
    "# define production function:\n",
    "def f(k):\n",
    "\n",
    "    return A*k**alpha\n",
    "\n",
    "# define wage rate:\n",
    "def w(k):\n",
    "\n",
    "    return A*(1-alpha)*k**alpha\n",
    "\n",
    "# define return on capital\n",
    "def R(k):\n",
    "    \n",
    "    return 1+ A*alpha*k**(alpha-1) - delta"
   ]
  },
  {
   "cell_type": "markdown",
   "metadata": {},
   "source": [
    "define function which calculates the period 1 capital stock per capita."
   ]
  },
  {
   "cell_type": "code",
   "execution_count": 18,
   "metadata": {},
   "outputs": [],
   "source": [
    "def capital(k,c):\n",
    "    \"\"\"\n",
    "    Input:\n",
    "        k_t: period_0 capital per capita\n",
    "        c_t: period_0 consumption per capita\n",
    "        \n",
    "    Return:\n",
    "        k_t+1: period_1 capital per capita\n",
    "    \"\"\"  \n",
    "    return (R(k))*k + w(k) - c"
   ]
  },
  {
   "cell_type": "markdown",
   "metadata": {},
   "source": [
    "define a function which calculates the period 1 consumption derived form euler equation."
   ]
  },
  {
   "cell_type": "code",
   "execution_count": 19,
   "metadata": {},
   "outputs": [],
   "source": [
    "def consumption(k,c):\n",
    "    \"\"\"\n",
    "    Input:\n",
    "        k_t: period_0 capital per capita\n",
    "        c_t: period_0 consumption per capita\n",
    "        \n",
    "    Return:\n",
    "        c_t+1: period_1 consumption per capita        \n",
    "    \"\"\"  \n",
    "    return c*(beta*R(k))"
   ]
  },
  {
   "cell_type": "markdown",
   "metadata": {},
   "source": [
    "define a function in which func_1, func_2= 0 in steady state"
   ]
  },
  {
   "cell_type": "code",
   "execution_count": 20,
   "metadata": {},
   "outputs": [],
   "source": [
    "# function 1 express the change in capital stock per capita between 2 periods.\n",
    "def func_1(k,c):\n",
    "    return capital(k,c) - k\n",
    "\n",
    "# when under steady state capital(k,c) - k = 0 "
   ]
  },
  {
   "cell_type": "code",
   "execution_count": 21,
   "metadata": {},
   "outputs": [],
   "source": [
    "# function 2 express the change in consumption per capita between 2 periods\n",
    "def func_2(k,c):\n",
    "    return consumption(k,c) - c\n",
    "\n",
    "# when under steady state consumption(k,c) - c = 0"
   ]
  },
  {
   "cell_type": "code",
   "execution_count": 22,
   "metadata": {},
   "outputs": [],
   "source": [
    "def steadystate(x):\n",
    "    result = [func_1(x[0],x[1])]\n",
    "    result.append(func_2(x[0],x[1]))\n",
    "    return result"
   ]
  },
  {
   "cell_type": "code",
   "execution_count": 23,
   "metadata": {},
   "outputs": [
    {
     "name": "stdout",
     "output_type": "stream",
     "text": [
      "Numeric k*:   0.6284352134711177\n",
      "Numeric c*:   0.7675887250298413\n"
     ]
    }
   ],
   "source": [
    "# make initial guess\n",
    "k0,c0 = 3,3\n",
    "\n",
    "# imply solver to calculate steady state\n",
    "k_star, c_star = optimize.fsolve(steadystate,x0=(k0,c0))\n",
    "\n",
    "print (\"Numeric k*:  \", k_star)\n",
    "print (\"Numeric c*:  \", c_star)"
   ]
  },
  {
   "cell_type": "markdown",
   "metadata": {},
   "source": [
    "define functions with capital k and consumption c on steady state:"
   ]
  },
  {
   "cell_type": "code",
   "execution_count": 24,
   "metadata": {},
   "outputs": [],
   "source": [
    "# define steady state capital k _star\n",
    "def k_star():\n",
    "    return ((beta*(delta-1) + 1)/(A*alpha*beta))**(1/(alpha-1))\n",
    "\n",
    "# steady state consumption c_star\n",
    "def c_star():\n",
    "    return A*k_star()** alpha - delta*k_star()"
   ]
  },
  {
   "cell_type": "code",
   "execution_count": 25,
   "metadata": {},
   "outputs": [
    {
     "name": "stdout",
     "output_type": "stream",
     "text": [
      "Analytic k*: 0.6284352134762944\n",
      "Analytic c*: 0.7675887250317597\n"
     ]
    }
   ],
   "source": [
    "print (\"Analytic k*:\", k_star())\n",
    "print (\"Analytic c*:\", c_star())"
   ]
  },
  {
   "cell_type": "code",
   "execution_count": 26,
   "metadata": {},
   "outputs": [
    {
     "name": "stdout",
     "output_type": "stream",
     "text": [
      "steady state y* 0.8304322463793891\n",
      "steady state s* 0.07567567567567561\n"
     ]
    }
   ],
   "source": [
    "# steady state production and saving\n",
    "y_star = f(k_star())\n",
    "s_star = (y_star - c_star())/ y_star\n",
    "print (\"steady state y*\",y_star)\n",
    "print (\"steady state s*\",s_star)"
   ]
  },
  {
   "cell_type": "markdown",
   "metadata": {},
   "source": [
    "## Visualization "
   ]
  },
  {
   "cell_type": "code",
   "execution_count": 27,
   "metadata": {},
   "outputs": [],
   "source": [
    "#  locus for capital\n",
    "def locus(k):\n",
    "    return f(k) - delta*k"
   ]
  },
  {
   "cell_type": "code",
   "execution_count": 28,
   "metadata": {
    "scrolled": true
   },
   "outputs": [
    {
     "data": {
      "image/png": "[encoded data removed]",
      "text/plain": [
       "<Figure size 432x288 with 1 Axes>"
      ]
     },
     "metadata": {
      "needs_background": "light"
     },
     "output_type": "display_data"
    }
   ],
   "source": [
    "#  create a grid for plotting\n",
    "xs = np.linspace(0, 500, 6000)\n",
    "\n",
    "#  Constructing the generic phase diagram \n",
    "phase = plt.figure(figsize=(6,4))\n",
    "plt.xlim(0,3)\n",
    "plt.ylim(0,2)\n",
    "plt.grid(False)\n",
    "plt.xlabel([])\n",
    "\n",
    "#  Adding the capital and consumption locii\n",
    "plt.plot(xs, locus(xs), linestyle ='-', color='blue') \n",
    "plt.axvline(k_star(), linestyle = '-', color = 'red')\n",
    "plt.plot(k_star(), c_star(), marker='o', markersize = 10, color ='black')\n",
    "\n",
    "#  Adding arrows to indicate dynamics \n",
    "plt.arrow((1/2)*k_star(), (1/2)*c_star(), dx=0, dy=0.2, head_width = 0.05, head_length= 0.1, color = 'grey')\n",
    "plt.arrow((1/2)*k_star(), (1/2)*c_star(), dx=0.2, dy=0, head_width = 0.05, head_length= 0.1, color = 'grey')\n",
    "plt.arrow((1/2)*k_star(), 2*c_star(), dx=0, dy=0.2, head_width = 0.05, head_length= 0.1, color = 'grey')\n",
    "plt.arrow((1/2)*k_star(), 2*c_star(), dx=-0.2, dy=0, head_width = 0.05, head_length= 0.1, color = 'grey')\n",
    "\n",
    "plt.arrow(2*k_star(), (1/2)*c_star(), dx=0, dy=-0.2, head_width = 0.05, head_length = 0.1, color = 'grey')\n",
    "plt.arrow(2*k_star(), (1/2)*c_star(), dx=0.2, dy=0, head_width = 0.05, head_length = 0.1, color = 'grey')\n",
    "plt.arrow(2*k_star(), 2*c_star(), dx=0, dy=-0.2, head_width = 0.05, head_length = 0.1, color = 'grey')\n",
    "plt.arrow(2*k_star(), 2*c_star(), dx=-0.2, dy=0, head_width = 0.05, head_length = 0.1, color = 'grey')\n",
    "\n",
    "#  Adding axis labels and title\n",
    "plt.xlabel('Capital (${k}$)', fontsize = 12)\n",
    "plt.ylabel('Consumption (${c}$)', fontsize = 12)\n",
    "plt.title('Ramsey Model Phase Diagram ', fontsize=15, pad = 10)\n",
    "plt.show()"
   ]
  },
  {
   "cell_type": "code",
   "execution_count": 39,
   "metadata": {},
   "outputs": [],
   "source": [
    "def k_star(delta):\n",
    "    return ((beta*(delta-1) + 1)/(A*alpha*beta))**(1/(alpha-1))\n",
    "\n",
    "# steady state consumption c_star\n",
    "def c_star(delta):\n",
    "    return A*k_star()** alpha - delta*k_star()\n",
    "\n",
    "def locus_0(k):\n",
    "    return f(k) - delta*k"
   ]
  },
  {
   "cell_type": "code",
   "execution_count": 59,
   "metadata": {},
   "outputs": [
    {
     "data": {
      "image/png": "[encoded data removed]",
      "text/plain": [
       "<Figure size 576x576 with 1 Axes>"
      ]
     },
     "metadata": {
      "needs_background": "light"
     },
     "output_type": "display_data"
    }
   ],
   "source": [
    "gridmax, gridsize = 6, 100\n",
    "grid = np.linspace(0, gridmax, gridsize)\n",
    "\n",
    "# Create a new figure\n",
    "plt.figure(figsize=(8,8))\n",
    "\n",
    "# Plot utility for varying values of alpha\n",
    "delta = 0.01\n",
    "plt.plot(grid, locus_0(grid), '-', label=r'$\\theta=%.2f$' %delta)\n",
    "\n",
    "delta = 0.05\n",
    "plt.plot(grid, locus_0(grid), '-', label=r'$\\theta=%.2f$' %delta)\n",
    "\n",
    "delta = 0.1\n",
    "plt.plot(grid, locus_0(grid), '-', label=r'$\\theta=%.2f$' %delta)\n",
    "\n",
    "delta = 0.2\n",
    "plt.plot(grid, locus_0(grid), '-', label=r'$\\theta=%.2f$' %delta)\n",
    "\n",
    "# label the axis\n",
    "plt.xlabel('capital(k)')\n",
    "plt.ylabel('consumption(c)')\n",
    "plt.axis([0, 6, 0, 5])\n",
    "\n",
    "# add title \n",
    "plt.title('How do capital accumulation change by changing $\\delta$', fontsize=15)\n",
    "\n",
    "# add legend\n",
    "plt.legend(loc=0, frameon=False)\n",
    "\n",
    "# save and display figure!\n",
    "plt.show()"
   ]
  },
  {
   "cell_type": "markdown",
   "metadata": {},
   "source": [
    "From the figure, by increasing $\\delta$,capital accumulation curve becomes flatter"
   ]
  },
  {
   "cell_type": "markdown",
   "metadata": {},
   "source": [
    "# Conclusion"
   ]
  },
  {
   "cell_type": "markdown",
   "metadata": {},
   "source": [
    "In this project, we set up a Ramsey model. We first find out the optimal consumption of two periods by numeral calculations. We then derive Euler equation and steady state capital. Combining them together and by giving values to parameters, we find out the optimal saving, optimal consumption and capital under the steady state. Finally, we visualize the model. The first figure shows how equilibrium will change if consumption or capital changed. The arrows show the directions of the equilibrium.The second figure shows how discount factor, or patient, affects capital accumulation."
   ]
  }
 ],
 "metadata": {
  "kernelspec": {
   "display_name": "Python 3",
   "language": "python",
   "name": "python3"
  },
  "language_info": {
   "codemirror_mode": {
    "name": "ipython",
    "version": 3
   },
   "file_extension": ".py",
   "mimetype": "text/x-python",
   "name": "python",
   "nbconvert_exporter": "python",
   "pygments_lexer": "ipython3",
   "version": "3.7.4"
  },
  "toc-autonumbering": true
 },
 "nbformat": 4,
 "nbformat_minor": 4
}

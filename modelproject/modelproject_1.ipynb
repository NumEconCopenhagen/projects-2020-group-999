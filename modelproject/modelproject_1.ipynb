{
 "cells": [
  {
   "cell_type": "markdown",
   "metadata": {},
   "source": [
    "# Consumer Maximization Problem with Cobb-Douglas Utility "
   ]
  },
  {
   "cell_type": "markdown",
   "metadata": {},
   "source": [
    "Imports and set magics:"
   ]
  },
  {
   "cell_type": "code",
   "execution_count": null,
   "metadata": {},
   "outputs": [],
   "source": [
    "import numpy as np\n",
    "from scipy import optimize\n",
    "from scipy import linalg\n",
    "from scipy import interpolate \n",
    "import sympy as sm\n",
    "\n",
    "# autoreload modules when code is run\n",
    "%load_ext autoreload\n",
    "%autoreload 2\n",
    "\n",
    "# local modules\n",
    "import modelproject"
   ]
  },
  {
   "cell_type": "code",
   "execution_count": null,
   "metadata": {},
   "outputs": [],
   "source": [
    "%matplotlib inline \n",
    "import matplotlib.pyplot as plt\n",
    "plt.style.use('seaborn-whitegrid')\n",
    "from matplotlib import cm\n",
    "from mpl_toolkits.mplot3d import Axes3D\n",
    "import ipywidgets as widgets"
   ]
  },
  {
   "cell_type": "markdown",
   "metadata": {
    "toc-hr-collapsed": true
   },
   "source": [
    "# Model description and consumer maximization problem "
   ]
  },
  {
   "cell_type": "markdown",
   "metadata": {},
   "source": [
    "We consider the 2 good world x1 and x2 with  preference described by **Cobb Douglas utility function** where:\n",
    "\n",
    "**utility** is given by $u(x_1,x_2)$.\n",
    "\n",
    "$$ {u(x_1,x_2)} =  A{x_1^{\\beta}}{x_2^{1-\\beta}} $$\n",
    "\n",
    "the customer is trying to solve utility maximization problem with **budet constraint**\n",
    "\n",
    "$$ p_1x_1 + p_2x_2 = I $$\n",
    "$$ p_1,p_2,I > 0 $$"
   ]
  },
  {
   "cell_type": "markdown",
   "metadata": {},
   "source": [
    "## Analytical Solution"
   ]
  },
  {
   "cell_type": "markdown",
   "metadata": {},
   "source": [
    "First we define all **symbols**:"
   ]
  },
  {
   "cell_type": "code",
   "execution_count": null,
   "metadata": {},
   "outputs": [],
   "source": [
    "A = sm.symbols('A')\n",
    "beta = sm.symbols('beta')\n",
    "x1 = sm.symbols('x_1')\n",
    "x2 = sm.symbols('x_2')\n",
    "p1 = sm.symbols('p_1')\n",
    "p2 = sm.symbols('p_2')\n",
    "I = sm.symbols('I')\n",
    "U = sm.symbols('U')"
   ]
  },
  {
   "cell_type": "markdown",
   "metadata": {},
   "source": [
    "define objective function"
   ]
  },
  {
   "cell_type": "code",
   "execution_count": null,
   "metadata": {},
   "outputs": [],
   "source": [
    "utility = A*x1**beta * x2**(1-beta)"
   ]
  },
  {
   "cell_type": "markdown",
   "metadata": {},
   "source": [
    "define budget constraint "
   ]
  },
  {
   "cell_type": "code",
   "execution_count": null,
   "metadata": {},
   "outputs": [],
   "source": [
    "bc = sm.Eq(p1*x1 + p2*x2, I)"
   ]
  },
  {
   "cell_type": "markdown",
   "metadata": {},
   "source": [
    "isolate x2 from budget constraint "
   ]
  },
  {
   "cell_type": "code",
   "execution_count": null,
   "metadata": {},
   "outputs": [],
   "source": [
    "x2_c = sm.solve(bc, x2)\n",
    "x2_c[0]"
   ]
  },
  {
   "cell_type": "markdown",
   "metadata": {},
   "source": [
    "substitute x2 into objective function "
   ]
  },
  {
   "cell_type": "code",
   "execution_count": null,
   "metadata": {},
   "outputs": [],
   "source": [
    "utility_subs = utility.subs(x2,x2_c[0])\n",
    "utility_subs"
   ]
  },
  {
   "cell_type": "markdown",
   "metadata": {},
   "source": [
    "take the derivative "
   ]
  },
  {
   "cell_type": "code",
   "execution_count": null,
   "metadata": {},
   "outputs": [],
   "source": [
    "foc = sm.diff(utility_subs, x1)\n",
    "foc"
   ]
  },
  {
   "cell_type": "markdown",
   "metadata": {},
   "source": [
    "solve for FOC"
   ]
  },
  {
   "cell_type": "code",
   "execution_count": null,
   "metadata": {
    "scrolled": true
   },
   "outputs": [],
   "source": [
    "x1_sol = sm.solve(sm.Eq(foc,0),x1)\n",
    "x1_sol[0]"
   ]
  },
  {
   "cell_type": "markdown",
   "metadata": {},
   "source": [
    "apply the same procedure to obtain the result of x2"
   ]
  },
  {
   "cell_type": "code",
   "execution_count": null,
   "metadata": {},
   "outputs": [],
   "source": [
    "x1_c = sm.solve(bc, x1)\n",
    "utility_subs_0 = utility.subs(x1,x1_c[0])\n",
    "foc_0 = sm.diff(utility_subs_0, x2)\n",
    "x2_sol = sm.solve(sm.Eq(foc_0,0),x2)\n",
    "x2_sol[0]"
   ]
  },
  {
   "cell_type": "markdown",
   "metadata": {},
   "source": [
    "## Numerical solution for Cobb-Douglas Utility"
   ]
  },
  {
   "cell_type": "code",
   "execution_count": null,
   "metadata": {},
   "outputs": [],
   "source": [
    "# first we define utility function \n",
    "def util(x1,x2,A,beta):\n",
    "    util = A*x1**beta *x2**(1-beta)\n",
    "    return util"
   ]
  },
  {
   "cell_type": "markdown",
   "metadata": {},
   "source": [
    "To find the optimal choice of x1 and x2 we loop through a grid of $N1 \\times N2$ possible solutions "
   ]
  },
  {
   "cell_type": "code",
   "execution_count": null,
   "metadata": {},
   "outputs": [],
   "source": [
    "def optimal_choice(A,beta,I,p1,p2,N1,N2,do_print=True):\n",
    "    \n",
    "    # a. allocate numpy arrays\n",
    "    shape_tuple = (N1,N2)\n",
    "    x1_values = np.empty(shape_tuple)\n",
    "    x2_values = np.empty(shape_tuple)\n",
    "    u_values = np.empty(shape_tuple)\n",
    "    \n",
    "    # b. initialize optimal value of x1,x2 and utility\n",
    "    x1_best = 0\n",
    "    x2_best = 0\n",
    "    u_best = util(0,0,A=A,beta=beta)\n",
    "    \n",
    "    # c. loop through all possibilities\n",
    "    for i in range(N1):\n",
    "        for j in range(N2):\n",
    "            \n",
    "            # i. x1 and x2 (chained assignment)\n",
    "            x1_values[i,j] = x1 = (i/(N1-1))*I/p1\n",
    "            x2_values[i,j] = x2 = (j/(N2-1))*I/p2\n",
    "            \n",
    "            # ii. utility\n",
    "            if p1*x1+p2*x2 <= I: # u(x1,x2) if within budget constraint \n",
    "                u_values[i,j] = util(x1,x2,A=A,beta=beta)\n",
    "            else: # u(0,0) if out of budget constraint\n",
    "                u_values[i,j] = util(0,0,A=A,beta=beta)\n",
    "            \n",
    "            # iii. check if best sofar\n",
    "            if u_values[i,j] > u_best:\n",
    "                x1_best = x1_values[i,j]\n",
    "                x2_best = x2_values[i,j] \n",
    "                u_best = u_values[i,j]\n",
    "    \n",
    "    # d. print\n",
    "    if do_print:\n",
    "        print_solution(x1_best,x2_best,u_best,I,p1,p2)\n",
    "\n",
    "    return x1_best,x2_best,u_best,x1_values,x2_values,u_values\n",
    "\n",
    "# function for printing the solution\n",
    "def print_solution(x1,x2,u,I,p1,p2):\n",
    "    print(f'x1 = {x1:.8f}')\n",
    "    print(f'x2 = {x2:.8f}')\n",
    "    print(f'u  = {u:.8f}')\n",
    "    print(f'I-p1*x1-p2*x2 = {I-p1*x1-p2*x2:.8f}') "
   ]
  },
  {
   "cell_type": "markdown",
   "metadata": {},
   "source": [
    "then call the function with given values of alpha,beta,p1,p2,I, N1 and N2 for consumer A "
   ]
  },
  {
   "cell_type": "code",
   "execution_count": null,
   "metadata": {},
   "outputs": [],
   "source": [
    "sol_0 = optimal_choice(A=4,beta=0.1,I=20,p1=2,p2=3,N1=500,N2=500)"
   ]
  },
  {
   "cell_type": "markdown",
   "metadata": {},
   "source": [
    "3D plotting for the solution"
   ]
  },
  {
   "cell_type": "code",
   "execution_count": null,
   "metadata": {},
   "outputs": [],
   "source": [
    "# a. unpack solution\n",
    "x1_best,x2_best,u_best,x1_values,x2_values,u_values = sol_0\n",
    "\n",
    "# b. setup figure\n",
    "fig = plt.figure(dpi=100)\n",
    "ax = fig.add_subplot(1,1,1,projection='3d')\n",
    "\n",
    "# c. plot 3d surface of utility values with different x1 and x2\n",
    "ax.plot_surface(x1_values,x2_values,u_values)\n",
    "ax.invert_xaxis()\n",
    "\n",
    "# d. find optimal choice\n",
    "ax.scatter(x1_best,x2_best,u_best,s=50,color='red');"
   ]
  },
  {
   "cell_type": "code",
   "execution_count": null,
   "metadata": {},
   "outputs": [],
   "source": [
    "plt.style.use('seaborn-whitegrid')\n",
    "\n",
    "# a. create the figure\n",
    "fig = plt.figure(figsize=(10,4))\n",
    "\n",
    "# b. unpack solution\n",
    "x1_best,x2_best,u_best,x1_values,x2_values,u_values = sol_0\n",
    "\n",
    "# c. plot\n",
    "fig = plt.figure(figsize=(10,4))\n",
    "ax = fig.add_subplot(1,2,1)\n",
    "ax.plot(x1_values,u_values)\n",
    "ax.set_title('value of choice, $u(x_1,x_2)$')\n",
    "ax.set_xlabel('$x_1$')\n",
    "ax.set_ylabel('$utility$')\n",
    "\n",
    "ax = fig.add_subplot(1,2,2)\n",
    "ax.plot(x2_values,u_values)\n",
    "ax.set_xlabel('$x_2$')\n",
    "ax.set_ylabel('$utility$')\n",
    "ax.set_title('value of choice')"
   ]
  },
  {
   "cell_type": "markdown",
   "metadata": {},
   "source": [
    "We have also applied different approach to solve the maximization problem.\n",
    "First, we define the values of p1, p2, alpha, beta and I:"
   ]
  },
  {
   "cell_type": "code",
   "execution_count": null,
   "metadata": {},
   "outputs": [],
   "source": [
    "p1 = 2\n",
    "p2 = 3\n",
    "I = 20\n",
    "A = 4 \n",
    "beta = 0.1"
   ]
  },
  {
   "cell_type": "markdown",
   "metadata": {},
   "source": [
    "then we use multi-dimensional constraint solver"
   ]
  },
  {
   "cell_type": "code",
   "execution_count": null,
   "metadata": {},
   "outputs": [],
   "source": [
    "# a. objective function for minimizing \n",
    "def func_0(x,A,beta,I,p1,p2):\n",
    "    # x is a vector\n",
    "    x1 = x[0]\n",
    "    x2 = x[1]\n",
    "    return -util(x1,x2,A,beta)\n",
    "\n",
    "# b. constraints and bounds\n",
    "constraints = ({'type': 'ineq', 'fun': lambda x:  I-p1*x[0]-p2*x[1]})\n",
    "bounds = ((0,I/p1),(0,I/p2))\n",
    "\n",
    "# c. call solver\n",
    "initial_guess = [I/p1/2,I/p2/2]\n",
    "sol_1 = optimize.minimize(\n",
    "    func_0,initial_guess,args=(A,beta,p1,p2,I),\n",
    "    method='SLSQP',bounds=bounds,constraints=constraints)\n",
    "\n",
    "# d. unpack solution\n",
    "x1 = sol_1.x[0]\n",
    "x2 = sol_1.x[1]\n",
    "u = util(x1,x2,A,beta)\n",
    "print_solution(x1,x2,u,I,p1,p2)"
   ]
  },
  {
   "cell_type": "markdown",
   "metadata": {},
   "source": [
    "# Visualization and Further Analysis "
   ]
  },
  {
   "cell_type": "markdown",
   "metadata": {},
   "source": [
    "The indifference curve running through $(y_1,y_2)$ is given by\n",
    "$$\n",
    "\\big\\{(x_1,x_2) \\in \\mathbb{R}^2_+ \\,|\\, u(x_1,x_2) = u(y_1,y_2)\\big\\}\n",
    "$$\n",
    " \n",
    "when plotting the indifference curve we solve $u(x_1,x_2)$ = $u(y_1,y_2)$ for each value of $x_1$, and $x_2$ correspond to $x_1$"
   ]
  },
  {
   "cell_type": "code",
   "execution_count": null,
   "metadata": {},
   "outputs": [],
   "source": [
    "def objective(x1,x2,A,beta,u):\n",
    "    return util(x1,x2,A,beta)-u \n",
    "    # when the result of objective function = 0 then (x1,x2) is on indifference curve with utility = u"
   ]
  },
  {
   "cell_type": "code",
   "execution_count": null,
   "metadata": {},
   "outputs": [],
   "source": [
    "def indifference_curve(y1,y2,A,beta,N,x1_max):\n",
    "    \n",
    "    # a. utility in (y1,y2)\n",
    "    u_y1y2 = A*y1**beta*y2**(1-beta)\n",
    "    \n",
    "    # b. allocate numpy arrays\n",
    "    x1_vec = np.linspace(1e-8,x1_max,N)\n",
    "    x2_vec = np.empty(N)\n",
    "    \n",
    "    # c. loop through x1\n",
    "    for i,x1 in enumerate(x1_vec):\n",
    "\n",
    "        x2_guess = 0 # initial guess\n",
    "        sol = optimize.root(objective, x2_guess, args=(x1,A,beta,u_y1y2)) \n",
    "        # optimize.root -> solve objective = 0 starting from x1 = x1_guess\n",
    "        \n",
    "        x2_vec[i] = sol.x[0]\n",
    "    \n",
    "    return x1_vec,x2_vec\n",
    "\n",
    "def budget_line(x1,p1,p2,I):\n",
    "        return (I-p1*x1)/p2"
   ]
  },
  {
   "cell_type": "code",
   "execution_count": null,
   "metadata": {},
   "outputs": [],
   "source": [
    "# a. find indifference curve through optimize x1 and x2 for x1 in [0,10]\n",
    "x1_max = 10\n",
    "x2_vec,x1_vec = indifference_curve(y1=sol_1.x[0],y2=sol_1.x[1],A=4,beta=0.1,N=100,x1_max=x1_max) \n",
    "\n",
    "# b. plot inddifference curve\n",
    "fig = plt.figure(figsize=(6,6))\n",
    "ax = fig.add_subplot(1,1,1)\n",
    "\n",
    "ax.plot(x1_vec,x2_vec,label='Indifference Curve')\n",
    "ax.plot(x1_vec,budget_line(x1_vec,p1,p2,I),label='Budget Constraint') \n",
    "ax.set_xlabel('$x_1$')\n",
    "ax.set_ylabel('$x_2$')\n",
    "ax.set_xlim([0,x1_max])\n",
    "ax.set_ylim([0,x1_max])\n",
    "plt.title('optimal consumption for given utility function with budget constraint 2$x_1$+3$x_2$=20')\n",
    "ax.grid(True)\n",
    "ax.legend()"
   ]
  },
  {
   "cell_type": "markdown",
   "metadata": {},
   "source": [
    "set the rest variables equal and only change beta value to see how the indifference curves change "
   ]
  },
  {
   "cell_type": "code",
   "execution_count": null,
   "metadata": {},
   "outputs": [],
   "source": [
    "fig = plt.figure()\n",
    "ax = fig.add_subplot(1,1,1)\n",
    "\n",
    "for Beta in [0.1,0.2,0.3,0.4,0.5]:\n",
    "    x2_vec,x1_vec = indifference_curve(y1=sol_1.x[0],y2=sol_1.x[1],A=4,beta=Beta,N=100,x1_max=x1_max)\n",
    "    ax.plot(x1_vec,x2_vec,label=f'{Beta}')\n",
    "\n",
    "    ax.legend()\n",
    "    ax.set_xlabel('$x_1$')\n",
    "    ax.set_ylabel('$x_2$')\n",
    "    ax.set_title('indifference curves with different beta')\n",
    "    ax.set_xlim([0,10])\n",
    "    ax.set_ylim([0,10]);"
   ]
  },
  {
   "cell_type": "markdown",
   "metadata": {},
   "source": [
    "when beta value increase the indifference curve gets steeper, meaning that when $\\beta$ becomes higher, 2 goods are more substitute for each other. All indifference curves are running through optimal consumption bundle $(x_1,x_2)$"
   ]
  },
  {
   "cell_type": "code",
   "execution_count": null,
   "metadata": {},
   "outputs": [],
   "source": [
    "beta_list = np.linspace(1e-8,0.999,50)"
   ]
  },
  {
   "cell_type": "code",
   "execution_count": null,
   "metadata": {},
   "outputs": [],
   "source": [
    "for i,z in enumerate(beta_list): # i is a counter\n",
    "    u = util(x1=sol_1.x[0],x2=sol_1.x[1],A=4,beta=z)\n",
    "    print(f'{i:2d}: beta = {z:<6.2f} -> u = {u:<6.3f}')"
   ]
  },
  {
   "cell_type": "markdown",
   "metadata": {},
   "source": [
    "It shows that given fixed consumption bundle $(x_1,x_2)$ = (1.0,6.0) and goods prices $(p_1,p_2)$ = (2.0,3.0), when ${\\beta}$ increases, consumer utility decreases"
   ]
  },
  {
   "cell_type": "markdown",
   "metadata": {},
   "source": [
    "# Conclusion"
   ]
  },
  {
   "cell_type": "markdown",
   "metadata": {},
   "source": [
    "This project provides analytical and numerical solution for consumer utility maximization problem with cobb douglas utility function. We have found that the optimal values for x1 and x2 are $I\\beta$/$p_1$ and $I(1-\\beta)$/$p_2$. We then specify values of different variables and found out utility function $4{x_1}^{0.1}{x_2}^{0.9}$ with budget constraint $2{x_1}+3{x_2}=20$ has optimal consumption bundle $(x_1,x_2) = (1.0002,5.9998)$ and the utility of 20.0630. "
   ]
  },
  {
   "cell_type": "code",
   "execution_count": null,
   "metadata": {},
   "outputs": [],
   "source": []
  }
 ],
 "metadata": {
  "kernelspec": {
   "display_name": "Python 3",
   "language": "python",
   "name": "python3"
  },
  "language_info": {
   "codemirror_mode": {
    "name": "ipython",
    "version": 3
   },
   "file_extension": ".py",
   "mimetype": "text/x-python",
   "name": "python",
   "nbconvert_exporter": "python",
   "pygments_lexer": "ipython3",
   "version": "3.7.3"
  },
  "toc-autonumbering": true
 },
 "nbformat": 4,
 "nbformat_minor": 4
}
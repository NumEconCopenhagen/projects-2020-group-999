{
 "cells": [
  {
   "cell_type": "markdown",
   "metadata": {},
   "source": [
    "# YOUR PROJECT TITLE"
   ]
  },
  {
   "cell_type": "markdown",
   "metadata": {},
   "source": [
    "Imports and set magics:"
   ]
  },
  {
   "cell_type": "code",
   "execution_count": 1,
   "metadata": {},
   "outputs": [],
   "source": [
    "import numpy as np\n",
    "from scipy import optimize\n",
    "from scipy import linalg\n",
    "from scipy import interpolate \n",
    "import sympy as sm\n",
    "\n",
    "# autoreload modules when code is run\n",
    "%load_ext autoreload\n",
    "%autoreload 2\n",
    "\n",
    "# local modules\n",
    "import modelproject"
   ]
  },
  {
   "cell_type": "code",
   "execution_count": 2,
   "metadata": {},
   "outputs": [],
   "source": [
    "%matplotlib inline \n",
    "import matplotlib.pyplot as plt\n",
    "plt.style.use('seaborn-whitegrid')\n",
    "from matplotlib import cm\n",
    "from mpl_toolkits.mplot3d import Axes3D"
   ]
  },
  {
   "cell_type": "markdown",
   "metadata": {
    "toc-hr-collapsed": true
   },
   "source": [
    "## Model description"
   ]
  },
  {
   "cell_type": "markdown",
   "metadata": {},
   "source": [
    "We consider the **Ramsey Model** from macro 3, in which we consider 2 sectors:\n",
    "\n",
    "**households** own capital, supply labor and consume\n",
    "**firm** give out capital and hire labor for production\n",
    "\n",
    "there are 4 variables\n",
    "**capital**: ${K_t}$\n",
    "**labor**: ${L_t}$\n",
    "**output**: ${Y_t}$\n",
    "**consumption**: ${C_t}$\n",
    "\n",
    "for individuals there are\n",
    "output per capita ${y_t}$ = ${Y_t}$/ ${L_t}$, capital per capita ${k_t}$ = ${K_t}$/${L_t}$, consumption per capita ${c_t}$ = ${C_t}$/${L_t}$\n",
    "\n",
    "**prices** are taken as given by households and firms \n",
    "${r_t}$: capital rent rate\n",
    "${w_t}$: wage rate\n",
    "\n",
    "return on capital owned by households, depreciation rate $\\delta$>0\n",
    "$$ {R_t} = 1 + {r_t} - {\\delta} $$"
   ]
  },
  {
   "cell_type": "markdown",
   "metadata": {},
   "source": [
    "**Firms** production function is given by:\n",
    "$$ Y_t = F(K_t,L_t) = f(k_t)L_t $$\n",
    "\n",
    "Firm profit maximization:\n",
    "$$ max_{k_t,l_t} f(k_t)L_t - r_tK_t - w_tL_t $$\n",
    "\n",
    "With FOC\n",
    "$$ f'(k_t) = r_t $$\n",
    "$$ f(k_t) - f'(k_t)k_t = w_t $$"
   ]
  },
  {
   "cell_type": "markdown",
   "metadata": {},
   "source": [
    "considering the case with **Cobb-Douglas Production** function:\n",
    "$$ F(K_t,L_t) = AK^{\\alpha}L^{1-\\alpha} $$\n",
    "\n",
    "$$f(k_t) = Ak_t^{\\alpha} $$\n",
    "\n",
    "and now $ r_t = A{\\alpha}k_t^{\\alpha-1}$, $w_t=  A(1-\\alpha)k_t^{\\alpha} $"
   ]
  },
  {
   "cell_type": "markdown",
   "metadata": {},
   "source": [
    "**Households** maximize utility from consumption:\n",
    "$$ max_{c_t} \\sum_{t=0}^{\\infty} \\beta^t u(c_t), u'>0, u''<0 $$ \n",
    "\n",
    "under constraint \n",
    "$$ k_{t+1} = R_tk_t + w_t - c_t $$\n",
    "\n",
    "with given $k_0 $, $ ({R_t})_{t=0}^{\\infty} $ and  $ ({w_t})_{t=0}^{\\infty} $\n",
    "\n",
    "*optimal behavior* imply euler equation $\\frac{u'(c_t)}{u'(c_{t+1})} = \\beta{R_{t+1}} $\n",
    "\n",
    "with *CRRA utility* function $u(c_t) = \\frac{c_t^{1-\\theta}}{1-\\theta}, \\theta>0 $"
   ]
  },
  {
   "cell_type": "markdown",
   "metadata": {},
   "source": [
    "## Analytical solution for Steady State"
   ]
  },
  {
   "cell_type": "markdown",
   "metadata": {},
   "source": [
    "First we define all **symbols**:"
   ]
  },
  {
   "cell_type": "code",
   "execution_count": 3,
   "metadata": {},
   "outputs": [],
   "source": [
    "u = sm.symbols('u')\n",
    "c0 = sm.symbols('c_t')\n",
    "c1 = sm.symbols('c_{t+1}')\n",
    "beta = sm.symbols('beta')\n",
    "R = sm.symbols('R_{t+1}')\n",
    "theta = sm.symbols('theta')\n",
    "r = sm.symbols('r_t')\n",
    "delta = sm.symbols('delta')\n",
    "A = sm.symbols('A')\n",
    "alpha = sm.symbols('alpha')\n",
    "k = sm.symbols('k_t')\n",
    "w = sm.symbols('w_t')\n",
    "k_star = sm.symbols('k^*')\n",
    "c_star = sm.symbols('c^*')\n",
    "\n",
    "r = A*alpha* k **(alpha-1)\n",
    "w = A*(1-alpha)*k**alpha\n",
    "R = 1 + r - delta\n",
    "k1 = R*k + w - c0"
   ]
  },
  {
   "cell_type": "markdown",
   "metadata": {},
   "source": [
    "utility function of 2 time period "
   ]
  },
  {
   "cell_type": "code",
   "execution_count": 4,
   "metadata": {},
   "outputs": [
    {
     "data": {
      "text/plain": [
       "(c_t**(1 - theta)/(1 - theta), c_{t+1}**(1 - theta)/(1 - theta))"
      ]
     },
     "execution_count": 4,
     "metadata": {},
     "output_type": "execute_result"
    }
   ],
   "source": [
    "u0 = c0**(1-theta)/(1-theta)\n",
    "u1 = c1**(1-theta)/(1-theta)\n",
    "(u0,u1)"
   ]
  },
  {
   "cell_type": "markdown",
   "metadata": {},
   "source": [
    "derive eular equation "
   ]
  },
  {
   "cell_type": "code",
   "execution_count": 5,
   "metadata": {},
   "outputs": [
    {
     "data": {
      "text/latex": [
       "$\\displaystyle \\frac{c_{t}^{1 - \\theta} c_{t+1} c_{t+1}^{\\theta - 1}}{c_{t}} = \\beta \\left(A \\alpha k_{t}^{\\alpha - 1} - \\delta + 1\\right)$"
      ],
      "text/plain": [
       "Eq(c_t**(1 - theta)*c_{t+1}*c_{t+1}**(theta - 1)/c_t, beta*(A*alpha*k_t**(alpha - 1) - delta + 1))"
      ]
     },
     "execution_count": 5,
     "metadata": {},
     "output_type": "execute_result"
    }
   ],
   "source": [
    "euler = sm.Eq(sm.diff(u0,c0)/sm.diff(u1,c1), beta*R)\n",
    "euler"
   ]
  },
  {
   "cell_type": "markdown",
   "metadata": {},
   "source": [
    "solve euler equation "
   ]
  },
  {
   "cell_type": "code",
   "execution_count": 6,
   "metadata": {},
   "outputs": [
    {
     "data": {
      "text/latex": [
       "$\\displaystyle c_{t+1} = \\left(\\frac{\\beta c_{t}^{\\theta} \\left(A \\alpha k_{t}^{\\alpha} - \\delta k_{t} + k_{t}\\right)}{k_{t}}\\right)^{\\frac{1}{\\theta}}$"
      ],
      "text/plain": [
       "Eq(c_{t+1}, (beta*c_t**theta*(A*alpha*k_t**alpha - delta*k_t + k_t)/k_t)**(1/theta))"
      ]
     },
     "execution_count": 6,
     "metadata": {},
     "output_type": "execute_result"
    }
   ],
   "source": [
    "sol = sm.solve(euler, c1)\n",
    "sm.Eq(c1,sol[0])"
   ]
  },
  {
   "cell_type": "markdown",
   "metadata": {},
   "source": [
    "when under steady state $c_t = c_{t+1}$, $k_t = k_{t+1}$, thus"
   ]
  },
  {
   "cell_type": "code",
   "execution_count": 7,
   "metadata": {},
   "outputs": [
    {
     "data": {
      "text/latex": [
       "$\\displaystyle \\left(\\frac{\\beta c_{t}^{\\theta} \\left(A \\alpha k_{t}^{\\alpha} - \\delta k_{t} + k_{t}\\right)}{k_{t}}\\right)^{\\frac{1}{\\theta}} = c_{t}$"
      ],
      "text/plain": [
       "Eq((beta*c_t**theta*(A*alpha*k_t**alpha - delta*k_t + k_t)/k_t)**(1/theta), c_t)"
      ]
     },
     "execution_count": 7,
     "metadata": {},
     "output_type": "execute_result"
    }
   ],
   "source": [
    "c_steadystate = sm.Eq(sol[0],c0)\n",
    "c_steadystate"
   ]
  },
  {
   "cell_type": "code",
   "execution_count": 8,
   "metadata": {},
   "outputs": [],
   "source": [
    "c_sol = sm.solve(c_steadystate,k)"
   ]
  },
  {
   "cell_type": "code",
   "execution_count": 9,
   "metadata": {},
   "outputs": [
    {
     "data": {
      "text/latex": [
       "$\\displaystyle k^{*} = \\left(\\frac{\\beta \\left(\\delta - 1\\right) + 1}{A \\alpha \\beta}\\right)^{\\frac{1}{\\alpha - 1}}$"
      ],
      "text/plain": [
       "Eq(k^*, ((beta*(delta - 1) + 1)/(A*alpha*beta))**(1/(alpha - 1)))"
      ]
     },
     "execution_count": 9,
     "metadata": {},
     "output_type": "execute_result"
    }
   ],
   "source": [
    "sm.Eq(k_star,c_sol[0])"
   ]
  },
  {
   "cell_type": "markdown",
   "metadata": {},
   "source": [
    "Then we define the **steady state capital**"
   ]
  },
  {
   "cell_type": "code",
   "execution_count": 10,
   "metadata": {},
   "outputs": [
    {
     "data": {
      "text/latex": [
       "$\\displaystyle k_{t} = A k_{t}^{\\alpha} \\left(1 - \\alpha\\right) - c_{t} + k_{t} \\left(A \\alpha k_{t}^{\\alpha - 1} - \\delta + 1\\right)$"
      ],
      "text/plain": [
       "Eq(k_t, A*k_t**alpha*(1 - alpha) - c_t + k_t*(A*alpha*k_t**(alpha - 1) - delta + 1))"
      ]
     },
     "execution_count": 10,
     "metadata": {},
     "output_type": "execute_result"
    }
   ],
   "source": [
    "k_steadystate = sm.Eq(k,k1)\n",
    "k_steadystate"
   ]
  },
  {
   "cell_type": "markdown",
   "metadata": {},
   "source": [
    "and **solve** it"
   ]
  },
  {
   "cell_type": "code",
   "execution_count": 11,
   "metadata": {},
   "outputs": [
    {
     "data": {
      "text/latex": [
       "$\\displaystyle c^{*} = A k_{t}^{\\alpha} - \\delta k_{t}$"
      ],
      "text/plain": [
       "Eq(c^*, A*k_t**alpha - delta*k_t)"
      ]
     },
     "execution_count": 11,
     "metadata": {},
     "output_type": "execute_result"
    }
   ],
   "source": [
    "k_sol = sm.solve(k_steadystate,c0)[0]\n",
    "sm.Eq(c_star,k_sol)"
   ]
  },
  {
   "cell_type": "markdown",
   "metadata": {},
   "source": [
    "Define the model **parameters**:"
   ]
  },
  {
   "cell_type": "code",
   "execution_count": 12,
   "metadata": {},
   "outputs": [],
   "source": [
    "A = 1\n",
    "alpha = 0.4\n",
    "delta = 0.1\n",
    "beta = 0.7\n",
    "theta = 0.2"
   ]
  },
  {
   "cell_type": "markdown",
   "metadata": {},
   "source": [
    "## Numerical solution"
   ]
  },
  {
   "cell_type": "code",
   "execution_count": 13,
   "metadata": {},
   "outputs": [],
   "source": [
    "# define production function:\n",
    "def f(k):\n",
    "    \"\"\"\n",
    "    Input:\n",
    "        k_t: period_0 capital per worker\n",
    "        \n",
    "    Return:\n",
    "        f_t: period_0 output per worker\n",
    "        \n",
    "    \"\"\"\n",
    "    return A*k**alpha\n",
    "\n",
    "# define rate of capital:\n",
    "def r(k):\n",
    "    \"\"\"\n",
    "    Input:\n",
    "        k_t: period_0 capital per worker\n",
    "        \n",
    "    Return:\n",
    "        r_t: period_0 rate of capital per worker\n",
    "        \n",
    "    \"\"\"\n",
    "    return A*alpha*k**(alpha-1)\n",
    "\n",
    "# define wage rate:\n",
    "def w(k):\n",
    "    \"\"\"\n",
    "    Input:\n",
    "        k_t: period_0 capital per worker\n",
    "        \n",
    "    Return:\n",
    "        w_t: period_0 wage rate per worker\n",
    "        \n",
    "    \"\"\"\n",
    "    return A*(1-alpha)*k**alpha\n",
    "\n",
    "# define return on capital\n",
    "def R(k):\n",
    "    \"\"\"\n",
    "    Inputs:\n",
    "        k_t: period_0 capital per worker\n",
    "        \n",
    "    Returns:\n",
    "        R_t: period_0 return on capital\n",
    "        \n",
    "    \"\"\"\n",
    "    return 1+ r(k) - delta"
   ]
  },
  {
   "cell_type": "markdown",
   "metadata": {},
   "source": [
    "define function which calculates the period 1 capital stock per capita."
   ]
  },
  {
   "cell_type": "code",
   "execution_count": 14,
   "metadata": {},
   "outputs": [],
   "source": [
    "def capital(k,c):\n",
    "    \"\"\"\n",
    "    Input:\n",
    "        1) k_t: period_0 capital per capita\n",
    "        2) c_t: period_0 consumption per capita\n",
    "        \n",
    "    Returns:\n",
    "        1) k_t+1: period_1 capital per capita\n",
    "    \"\"\"    \n",
    " \n",
    "    return (R(k))*k - w(k) - c"
   ]
  },
  {
   "cell_type": "markdown",
   "metadata": {},
   "source": [
    "define a function which calculates the next period consumption derived form euler equation."
   ]
  },
  {
   "cell_type": "code",
   "execution_count": 15,
   "metadata": {},
   "outputs": [],
   "source": [
    "def consumption(k,c):\n",
    "    \"\"\"\n",
    "    Input:\n",
    "        1) k_t: period_0 capital per capita\n",
    "        2) c_t: period_0 consumption per capita\n",
    "        \n",
    "    Return:\n",
    "        1) c_t+1: period_1 consumption per capita        \n",
    "    \"\"\"\n",
    "    return (beta*R(k))**(1/theta)*c "
   ]
  },
  {
   "cell_type": "markdown",
   "metadata": {},
   "source": [
    "define a function in which func_1, func_2= 0"
   ]
  },
  {
   "cell_type": "code",
   "execution_count": 16,
   "metadata": {},
   "outputs": [],
   "source": [
    "# function 1 express the change in capital stock per capita between 2 periods.\n",
    "def func_1(k,c):\n",
    "    return capital(k,c) - k\n",
    "\n",
    "# when under steady state capital(k,c) - k = 0 "
   ]
  },
  {
   "cell_type": "code",
   "execution_count": 17,
   "metadata": {},
   "outputs": [],
   "source": [
    "# function 2 express the change in consumption per capita between 2 periods\n",
    "def func_2(k,c):\n",
    "    return consumption(k,c) - c\n",
    "\n",
    "# when under steady state consumption(k,c) - c = 0"
   ]
  },
  {
   "cell_type": "code",
   "execution_count": 18,
   "metadata": {},
   "outputs": [],
   "source": [
    "def steadystate(x):\n",
    "    result = [func_1(x[0],x[1])]\n",
    "    result.append(func_2(x[0],x[1]))\n",
    "    return result"
   ]
  },
  {
   "cell_type": "code",
   "execution_count": 19,
   "metadata": {},
   "outputs": [
    {
     "name": "stdout",
     "output_type": "stream",
     "text": [
      "Numeric k*:   0.628435213472863\n",
      "Numeric c*:   -0.22892997062284345\n"
     ]
    }
   ],
   "source": [
    "# make initial guess\n",
    "k0,c0 = 1,1\n",
    "\n",
    "# imply solver to calculate steady state\n",
    "k_star, c_star = optimize.fsolve(func=steadystate,x0=(k0,c0))\n",
    "\n",
    "print (\"Numeric k*:  \", k_star)\n",
    "print (\"Numeric c*:  \", c_star)"
   ]
  },
  {
   "cell_type": "markdown",
   "metadata": {},
   "source": [
    "define functions with capital k and consumption c on steady state:"
   ]
  },
  {
   "cell_type": "code",
   "execution_count": 20,
   "metadata": {},
   "outputs": [],
   "source": [
    "# define steady state capital k _star\n",
    "def k_star():\n",
    "    return ((beta*(delta-1) + 1)/(A*alpha*beta))**(1/(alpha-1))\n",
    "\n",
    "# steady state consumption c_star\n",
    "def c_star():\n",
    "    return A*k_star()** alpha - delta*k_star()"
   ]
  },
  {
   "cell_type": "code",
   "execution_count": 21,
   "metadata": {},
   "outputs": [
    {
     "name": "stdout",
     "output_type": "stream",
     "text": [
      "Analytic k*: 0.6284352134762944\n",
      "Analytic c*: 0.7675887250317597\n"
     ]
    }
   ],
   "source": [
    "print (\"Analytic k*:\", k_star())\n",
    "print (\"Analytic c*:\", c_star())"
   ]
  },
  {
   "cell_type": "markdown",
   "metadata": {},
   "source": [
    "## Visualization "
   ]
  },
  {
   "cell_type": "code",
   "execution_count": 22,
   "metadata": {},
   "outputs": [],
   "source": [
    "#a. locus for capital\n",
    "def locus(k):\n",
    "    return f(k) - delta*k"
   ]
  },
  {
   "cell_type": "code",
   "execution_count": 23,
   "metadata": {},
   "outputs": [
    {
     "data": {
      "image/png": "[encoded data removed]",
      "text/plain": [
       "<Figure size 720x504 with 1 Axes>"
      ]
     },
     "metadata": {
      "needs_background": "light"
     },
     "output_type": "display_data"
    }
   ],
   "source": [
    "#b. Create a grid of points for plotting\n",
    "xs = np.linspace(0, 500, 7000)\n",
    "\n",
    "#c. Constructing the generic phase diagram \n",
    "phase = plt.figure(figsize=(10,7))\n",
    "plt.xlim(0,4)\n",
    "plt.ylim(0,2)\n",
    "plt.grid(False)\n",
    "plt.xlabel([])\n",
    "\n",
    "#c.1 Adding the capital and consumption locii\n",
    "plt.plot(xs, locus(xs), linestyle ='-', color='blue') \n",
    "plt.axvline(k_star(), linestyle = '-', color = 'red')\n",
    "plt.plot(k_star(), c_star(), marker='o', markersize = 10, color ='black')\n",
    "\n",
    "#c.2 Adding arrows to indicate dynamics \n",
    "plt.arrow((1/2)*k_star(), (1/2)*c_star(), dx=0, dy=0.2, head_width = 0.05, head_length= 0.1, color = 'grey')\n",
    "plt.arrow((1/2)*k_star(), (1/2)*c_star(), dx=0.2, dy=0, head_width = 0.05, head_length= 0.1, color = 'grey')\n",
    "plt.arrow((1/2)*k_star(), 2*c_star(), dx=0, dy=0.2, head_width = 0.05, head_length= 0.1, color = 'grey')\n",
    "plt.arrow((1/2)*k_star(), 2*c_star(), dx=-0.2, dy=0, head_width = 0.05, head_length= 0.1, color = 'grey')\n",
    "\n",
    "plt.arrow(2*k_star(), (1/2)*c_star(), dx=0, dy=-0.2, head_width = 0.05, head_length = 0.1, color = 'grey')\n",
    "plt.arrow(2*k_star(), (1/2)*c_star(), dx=0.2, dy=0, head_width = 0.05, head_length = 0.1, color = 'grey')\n",
    "plt.arrow(2*k_star(), 2*c_star(), dx=0, dy=-0.2, head_width = 0.05, head_length = 0.1, color = 'grey')\n",
    "plt.arrow(2*k_star(), 2*c_star(), dx=-0.2, dy=0, head_width = 0.05, head_length = 0.1, color = 'grey')\n",
    "\n",
    "#c.3 Adding axis labels and title\n",
    "plt.xlabel('Capital ($\\hat{k}$)', fontsize = 12)\n",
    "plt.ylabel('Consumption ($\\hat{c}$)', fontsize = 12)\n",
    "plt.title('Ramsey Model Phase Diagram ', fontsize=15, pad = 10)\n",
    "plt.show()"
   ]
  },
  {
   "cell_type": "markdown",
   "metadata": {},
   "source": [
    "# Conclusion"
   ]
  },
  {
   "cell_type": "markdown",
   "metadata": {},
   "source": [
    "ADD CONCISE CONCLUSION."
   ]
  }
 ],
 "metadata": {
  "kernelspec": {
   "display_name": "Python 3",
   "language": "python",
   "name": "python3"
  },
  "language_info": {
   "codemirror_mode": {
    "name": "ipython",
    "version": 3
   },
   "file_extension": ".py",
   "mimetype": "text/x-python",
   "name": "python",
   "nbconvert_exporter": "python",
   "pygments_lexer": "ipython3",
   "version": "3.7.3"
  },
  "toc-autonumbering": true
 },
 "nbformat": 4,
 "nbformat_minor": 4
}

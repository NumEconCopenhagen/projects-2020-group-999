{
 "cells": [
  {
   "cell_type": "markdown",
   "metadata": {},
   "source": [
    "# YOUR PROJECT TITLE"
   ]
  },
  {
   "cell_type": "markdown",
   "metadata": {},
   "source": [
    "Imports and set magics:"
   ]
  },
  {
   "cell_type": "code",
   "execution_count": 2,
   "metadata": {},
   "outputs": [],
   "source": [
    "import numpy as np\n",
    "from scipy import optimize\n",
    "from scipy import linalg\n",
    "from scipy import interpolate \n",
    "import sympy as sm\n",
    "\n",
    "# autoreload modules when code is run\n",
    "%load_ext autoreload\n",
    "%autoreload 2\n",
    "\n",
    "# local modules\n",
    "import modelproject"
   ]
  },
  {
   "cell_type": "code",
   "execution_count": 3,
   "metadata": {},
   "outputs": [],
   "source": [
    "%matplotlib inline \n",
    "import matplotlib.pyplot as plt\n",
    "plt.style.use('seaborn-whitegrid')\n",
    "from matplotlib import cm\n",
    "from mpl_toolkits.mplot3d import Axes3D"
   ]
  },
  {
   "cell_type": "markdown",
   "metadata": {
    "toc-hr-collapsed": true
   },
   "source": [
    "# Model description and consumer maximization problem "
   ]
  },
  {
   "cell_type": "markdown",
   "metadata": {},
   "source": [
    "We consider the **Cobb-Douglas utility function** where:\n",
    "\n",
    "**utility** is given by u(c).\n",
    "\n",
    "$$ u(x_1,x_2) = \n",
    "   {Ax_1^{\\beta}}x_2^{1- \\beta}\n",
    "$$\n",
    "\n",
    "we try to solve utility maximization problem with **budet constraint**\n",
    "\n",
    "$$ p_1x_1 + p_2x_2 = I $$"
   ]
  },
  {
   "cell_type": "markdown",
   "metadata": {},
   "source": [
    "## Consumer Maximization"
   ]
  },
  {
   "cell_type": "markdown",
   "metadata": {},
   "source": [
    "And we define all **symbols**:"
   ]
  },
  {
   "cell_type": "code",
   "execution_count": 4,
   "metadata": {},
   "outputs": [],
   "source": [
    "A = sm.symbols('A')\n",
    "beta = sm.symbols('beta')\n",
    "x1 = sm.symbols('x_1')\n",
    "x2 = sm.symbols('x_2')\n",
    "p1 = sm.symbols('p_1')\n",
    "p2 = sm.symbols('p_2')\n",
    "I = sm.symbols('I')\n",
    "U = sm.symbols('U')\n",
    "\n",
    "\n",
    "# we have budget constraint bc which \n",
    "bc = sm.Eq(p1*x1 + p2*x2, I)"
   ]
  },
  {
   "cell_type": "markdown",
   "metadata": {},
   "source": [
    "define objective function"
   ]
  },
  {
   "cell_type": "code",
   "execution_count": 5,
   "metadata": {},
   "outputs": [],
   "source": [
    "utility = A*x1**beta * x2**(1-beta)"
   ]
  },
  {
   "cell_type": "markdown",
   "metadata": {},
   "source": [
    "define budget constraint "
   ]
  },
  {
   "cell_type": "code",
   "execution_count": 6,
   "metadata": {},
   "outputs": [],
   "source": [
    "bc = sm.Eq(p1*x1 + p2*x2, I)"
   ]
  },
  {
   "cell_type": "markdown",
   "metadata": {},
   "source": [
    "isolate x2 from budget constraint "
   ]
  },
  {
   "cell_type": "code",
   "execution_count": 7,
   "metadata": {},
   "outputs": [
    {
     "data": {
      "text/latex": [
       "$\\displaystyle \\frac{I - p_{1} x_{1}}{p_{2}}$"
      ],
      "text/plain": [
       "(I - p_1*x_1)/p_2"
      ]
     },
     "execution_count": 7,
     "metadata": {},
     "output_type": "execute_result"
    }
   ],
   "source": [
    "x2_c = sm.solve(bc, x2)\n",
    "x2_c[0]"
   ]
  },
  {
   "cell_type": "markdown",
   "metadata": {},
   "source": [
    "substitute x2 into objective function "
   ]
  },
  {
   "cell_type": "code",
   "execution_count": 8,
   "metadata": {},
   "outputs": [
    {
     "data": {
      "text/latex": [
       "$\\displaystyle A x_{1}^{\\beta} \\left(\\frac{I - p_{1} x_{1}}{p_{2}}\\right)^{1 - \\beta}$"
      ],
      "text/plain": [
       "A*x_1**beta*((I - p_1*x_1)/p_2)**(1 - beta)"
      ]
     },
     "execution_count": 8,
     "metadata": {},
     "output_type": "execute_result"
    }
   ],
   "source": [
    "utility_subs = utility.subs(x2,x2_c[0])\n",
    "utility_subs"
   ]
  },
  {
   "cell_type": "markdown",
   "metadata": {},
   "source": [
    "take the derivative "
   ]
  },
  {
   "cell_type": "code",
   "execution_count": 9,
   "metadata": {},
   "outputs": [
    {
     "data": {
      "text/latex": [
       "$\\displaystyle \\frac{A \\beta x_{1}^{\\beta} \\left(\\frac{I - p_{1} x_{1}}{p_{2}}\\right)^{1 - \\beta}}{x_{1}} - \\frac{A p_{1} x_{1}^{\\beta} \\left(\\frac{I - p_{1} x_{1}}{p_{2}}\\right)^{1 - \\beta} \\left(1 - \\beta\\right)}{I - p_{1} x_{1}}$"
      ],
      "text/plain": [
       "A*beta*x_1**beta*((I - p_1*x_1)/p_2)**(1 - beta)/x_1 - A*p_1*x_1**beta*((I - p_1*x_1)/p_2)**(1 - beta)*(1 - beta)/(I - p_1*x_1)"
      ]
     },
     "execution_count": 9,
     "metadata": {},
     "output_type": "execute_result"
    }
   ],
   "source": [
    "foc = sm.diff(utility_subs, x1)\n",
    "foc"
   ]
  },
  {
   "cell_type": "markdown",
   "metadata": {},
   "source": [
    "solve for FOC"
   ]
  },
  {
   "cell_type": "code",
   "execution_count": 10,
   "metadata": {},
   "outputs": [
    {
     "data": {
      "text/latex": [
       "$\\displaystyle \\frac{I \\beta}{p_{1}}$"
      ],
      "text/plain": [
       "I*beta/p_1"
      ]
     },
     "execution_count": 10,
     "metadata": {},
     "output_type": "execute_result"
    }
   ],
   "source": [
    "x1_sol = sm.solve(sm.Eq(foc,0),x1)\n",
    "x1_sol[0]"
   ]
  },
  {
   "cell_type": "markdown",
   "metadata": {},
   "source": [
    "apply the same procedure to obtain the result of x2"
   ]
  },
  {
   "cell_type": "code",
   "execution_count": 11,
   "metadata": {},
   "outputs": [
    {
     "data": {
      "text/latex": [
       "$\\displaystyle - \\frac{I \\left(\\beta - 1\\right)}{p_{2}}$"
      ],
      "text/plain": [
       "-I*(beta - 1)/p_2"
      ]
     },
     "execution_count": 11,
     "metadata": {},
     "output_type": "execute_result"
    }
   ],
   "source": [
    "x1_c = sm.solve(bc, x1)\n",
    "utility_subs_0 = utility.subs(x1,x1_c[0])\n",
    "foc_0 = sm.diff(utility_subs_0, x2)\n",
    "x2_sol = sm.solve(sm.Eq(foc_0,0),x2)\n",
    "x2_sol[0]"
   ]
  },
  {
   "cell_type": "markdown",
   "metadata": {},
   "source": [
    "## Numerical solution"
   ]
  },
  {
   "cell_type": "markdown",
   "metadata": {},
   "source": [
    "Define the **parameters** of p1, p2 and I:"
   ]
  },
  {
   "cell_type": "code",
   "execution_count": 46,
   "metadata": {},
   "outputs": [],
   "source": [
    "p1 = 1\n",
    "p2 = 2\n",
    "I = 10\n",
    "A = 2\n",
    "beta = 0.4"
   ]
  },
  {
   "cell_type": "markdown",
   "metadata": {},
   "source": [
    "**Solve numerically** for given values of p1,p2 and I:"
   ]
  },
  {
   "cell_type": "code",
   "execution_count": 47,
   "metadata": {},
   "outputs": [],
   "source": [
    "def utility_0(x1,x2,A,beta):\n",
    "    return A*x1**beta* x2 **(1-beta)"
   ]
  },
  {
   "cell_type": "code",
   "execution_count": 48,
   "metadata": {},
   "outputs": [],
   "source": [
    "def func_0(x1,x2,p1,p2,I):\n",
    "    x2 = I*(1-beta)/p1\n",
    "    return -utility_0(x1,x2,A,beta)"
   ]
  },
  {
   "cell_type": "code",
   "execution_count": 49,
   "metadata": {},
   "outputs": [],
   "source": [
    "# call minimizer to solve the problem\n",
    "sol_n = optimize.minimize_scalar(func_0, method='bounded',bounds=(0,I/p2),args=(p1,p2,I,beta))\n",
    "\n",
    "x1 = sol_n.x\n",
    "x2 = (I-p1*x1)/p2\n",
    "func_0 = utility_0(x1,x2,A,beta)"
   ]
  },
  {
   "cell_type": "code",
   "execution_count": 50,
   "metadata": {},
   "outputs": [
    {
     "name": "stdout",
     "output_type": "stream",
     "text": [
      "4.999996371653228\n",
      "2.500001814173386\n",
      "6.597540511389258\n",
      "I-p1*x1-p2*x2 = 0.00\n"
     ]
    }
   ],
   "source": [
    "print(x1)\n",
    "print(x2)\n",
    "print(func_0)\n",
    "print(f'I-p1*x1-p2*x2 = {I-p1*x1-p2*x2:.2f}')"
   ]
  },
  {
   "cell_type": "markdown",
   "metadata": {},
   "source": [
    "# Visualization and Further Analysis "
   ]
  },
  {
   "cell_type": "markdown",
   "metadata": {},
   "source": [
    "ADD FURTHER ANALYSIS, VISUALIZATIONS AND EXTENSIONS."
   ]
  },
  {
   "cell_type": "markdown",
   "metadata": {},
   "source": [
    "# Conclusion"
   ]
  },
  {
   "cell_type": "markdown",
   "metadata": {},
   "source": [
    "ADD CONCISE CONCLUSION."
   ]
  }
 ],
 "metadata": {
  "kernelspec": {
   "display_name": "Python 3",
   "language": "python",
   "name": "python3"
  },
  "language_info": {
   "codemirror_mode": {
    "name": "ipython",
    "version": 3
   },
   "file_extension": ".py",
   "mimetype": "text/x-python",
   "name": "python",
   "nbconvert_exporter": "python",
   "pygments_lexer": "ipython3",
   "version": "3.7.3"
  },
  "toc-autonumbering": true
 },
 "nbformat": 4,
 "nbformat_minor": 4
}

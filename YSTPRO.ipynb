{
 "cells": [
  {
   "cell_type": "code",
   "execution_count": 8,
   "metadata": {},
   "outputs": [],
   "source": [
    "from scipy import optimize\n",
    "import matplotlib.pyplot as plt\n",
    "from math import log\n",
    "import numpy as np\n"
   ]
  },
  {
   "cell_type": "code",
   "execution_count": 7,
   "metadata": {},
   "outputs": [
    {
     "name": "stdout",
     "output_type": "stream",
     "text": [
      "     fun: -inf\n",
      "    nfev: 869\n",
      "     nit: 35\n",
      " success: True\n",
      "       x: 3.65378692257769e+307\n"
     ]
    },
    {
     "name": "stderr",
     "output_type": "stream",
     "text": [
      "/home/samx/anaconda3/lib/python3.6/site-packages/ipykernel_launcher.py:3: RuntimeWarning: overflow encountered in double_scalars\n",
      "  This is separate from the ipykernel package so we can avoid doing imports until\n"
     ]
    }
   ],
   "source": [
    "def consumer_func(l,c,m,v,e,r_0, r_1, k):\n",
    "    \n",
    "    f = v*((l*(1+1/e)/(1+1/e)))\n",
    "    \n",
    "    return f\n",
    "\n",
    "\n",
    "m = 1\n",
    "v = 10\n",
    "e = 0.3\n",
    "r_0 = 0.4\n",
    "r_1 = 0.1\n",
    "k = 0.4\n",
    "c = 0.5\n",
    "\n",
    "\n",
    "obj = lambda l: -consumer_func(l,c,m,v,e,r_0, r_1, k);\n",
    "\n",
    "solution = optimize.minimize_scalar(obj,bounds=(0.5,1.5))\n",
    "print(solution)\n",
    "\n",
    "    "
   ]
  },
  {
   "cell_type": "code",
   "execution_count": 11,
   "metadata": {},
   "outputs": [
    {
     "data": {
      "text/plain": [
       "1.219985675062017"
      ]
     },
     "execution_count": 11,
     "metadata": {},
     "output_type": "execute_result"
    }
   ],
   "source": [
    "w = np.random.uniform(0.5,1.5)\n",
    "\n",
    "lis = []\n",
    "\n",
    "\n",
    "for i in range(20):\n",
    "    lis.append(w)\n",
    "\n",
    "    \n",
    "plot"
   ]
  },
  {
   "cell_type": "code",
   "execution_count": null,
   "metadata": {},
   "outputs": [],
   "source": []
  }
 ],
 "metadata": {
  "kernelspec": {
   "display_name": "Python 3",
   "language": "python",
   "name": "python3"
  },
  "language_info": {
   "codemirror_mode": {
    "name": "ipython",
    "version": 3
   },
   "file_extension": ".py",
   "mimetype": "text/x-python",
   "name": "python",
   "nbconvert_exporter": "python",
   "pygments_lexer": "ipython3",
   "version": "3.6.8"
  }
 },
 "nbformat": 4,
 "nbformat_minor": 2
}

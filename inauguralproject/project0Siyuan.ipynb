{
 "nbformat": 4,
 "nbformat_minor": 2,
 "metadata": {
  "language_info": {
   "name": "python",
   "codemirror_mode": {
    "name": "ipython",
    "version": 3
   }
  },
  "orig_nbformat": 2,
  "file_extension": ".py",
  "mimetype": "text/x-python",
  "name": "python",
  "npconvert_exporter": "python",
  "pygments_lexer": "ipython3",
  "version": 3
 },
 "cells": [
  {
   "cell_type": "code",
   "execution_count": null,
   "metadata": {},
   "outputs": [],
   "source": [
    "import numpy as np\n",
    "import math \n",
    "from scipy import optimize\n",
    "%matplotlib inline\n",
    "import matplotlib.pyplot as plt"
   ]
  },
  {
   "cell_type": "code",
   "execution_count": null,
   "metadata": {},
   "outputs": [],
   "source": [
    "#question 1 \n",
    "#define values for the variables\n",
    "m = 1\n",
    "v = 10\n",
    "e = 0.3\n",
    "t_0 = 0.4\n",
    "t_1 = 0.1\n",
    "k = 0.4\n",
    "#objection function\n",
    "def obj(c,l,v,e):\n",
    "    return np.log(c) - v*(l**(1+1/e))/(1+1/e)"
   ]
  },
  {
   "cell_type": "code",
   "execution_count": null,
   "metadata": {},
   "outputs": [],
   "source": [
    "#create a function for minimizing utility\n",
    "def u(l,m,w,v,e,t_0,t_1,k):\n",
    "    c = m + w*l-(t_0*w*l + t_1*max(w*l-k,0))\n",
    "    return -obj(c,l,v,e)"
   ]
  },
  {
   "cell_type": "code",
   "execution_count": null,
   "metadata": {},
   "outputs": [],
   "source": [
    "#question 2 \n",
    "# create the empty list of optimal value of c and l \n",
    "ls = []\n",
    "cs = []\n",
    "n = 10000\n",
    "# loop through w from 0.5 to 1.5 with n values\n",
    "ws = np.linspace(0.5,1.5,n)\n",
    "for i in ws:\n",
    "    opt_value = opt(i,m,v,e,t_0,t_1,k)\n",
    "    cs.append(opt_value[0])\n",
    "    ls.append(opt_value[1])\n",
    "    \n",
    "# plot the figure\n",
    "fig = plt.figure(figsize=(10,4))\n",
    "ax_left = fig.add_subplot(1,2,1)\n",
    "ax_left.plot(ws,cs,color='Blue')\n",
    "\n",
    "ax_left.set_title('optimal c relate to w')\n",
    "ax_left.set_xlabel('w')\n",
    "ax_left.set_ylabel('optimal c')\n",
    "ax_left.grid(True)\n",
    "\n",
    "ax_right = fig.add_subplot(1,2,2)\n",
    "ax_right.plot(ws,ls,color='Red')\n",
    "\n",
    "ax_right.set_title('optimal l relate to w')\n",
    "ax_right.set_xlabel('w')\n",
    "ax_right.set_ylabel('optimal l')\n",
    "ax_right.grid(True)"
   ]
  },
  {
   "cell_type": "code",
   "execution_count": null,
   "metadata": {},
   "outputs": [],
   "source": [
    "# question 3\n",
    "# calculate the tax revenue T with uniformly distributed w from 0.5 to 1.5 \n",
    "def tax_rev(w,m=1,v=10,e=0.3,t_0=0.4,t_1=0.1,k=0.4):\n",
    "    T = 0\n",
    "    for i in ws: # calculate tax revenue from each i \n",
    "        opt_value = opt(i,m,v,e,t_0,t_1,k)\n",
    "        l_0 = opt_value[1]\n",
    "        T += t_0*i*l_0 + t_1*max(w*l_0-k,0) #add up all the taxes collected from each i\n",
    "    return T\n",
    "print (\"tax revenue\" + \" \" + str(tax_rev(i)))"
   ]
  },
  {
   "cell_type": "code",
   "execution_count": null,
   "metadata": {},
   "outputs": [],
   "source": [
    "# question 4\n",
    "# change e from 0.3 to 0.1\n",
    "\n",
    "def new_tax_rev(w,m=1,v=10,e=0.1,t_0=0.4,t_1=0.1,k=0.4):\n",
    "    T = 0\n",
    "    for i in ws:\n",
    "        opt_value = opt(i,m,v,e,t_0,t_1,k)\n",
    "        l_0 = opt_value[1]\n",
    "        T += t_0*i*l_0 + t_1*max(i*l_0-k,0)\n",
    "    return T\n",
    "print (\"tax revenue\" + \" \" + str(new_tax_rev(i)))"
   ]
  },
  {
   "cell_type": "code",
   "execution_count": null,
   "metadata": {},
   "outputs": [],
   "source": []
  }
 ]
}
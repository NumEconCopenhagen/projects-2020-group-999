{
 "cells": [
  {
   "cell_type": "markdown",
   "metadata": {},
   "source": [
    "# Inaugural Project"
   ]
  },
  {
   "cell_type": "markdown",
   "metadata": {},
   "source": [
    "> **Note the following:** \n",
    "> 1. This is an example of how to structure your **inaugural project**.\n",
    "> 1. Remember the general advice on structuring and commenting your code from [lecture 5](https://numeconcopenhagen.netlify.com/lectures/Workflow_and_debugging).\n",
    "> 1. Remember this [guide](https://www.markdownguide.org/basic-syntax/) on markdown and (a bit of) latex.\n",
    "> 1. Turn on automatic numbering by clicking on the small icon on top of the table of contents in the left sidebar.\n",
    "> 1. The `inauguralproject.py` file includes a function which can be used multiple times in this notebook."
   ]
  },
  {
   "cell_type": "markdown",
   "metadata": {},
   "source": [
    "Imports and set magics:"
   ]
  },
  {
   "cell_type": "code",
   "execution_count": 1,
   "metadata": {},
   "outputs": [],
   "source": [
    "import numpy as np\n",
    "\n",
    "# autoreload modules when code is run\n",
    "%load_ext autoreload\n",
    "%autoreload 2\n",
    "\n",
    "# local modules\n",
    "import inauguralproject"
   ]
  },
  {
   "cell_type": "markdown",
   "metadata": {
    "toc-hr-collapsed": true
   },
   "source": [
    "# Question 1"
   ]
  },
  {
   "cell_type": "markdown",
   "metadata": {},
   "source": [
    "BRIEFLY EXPLAIN HOW YOU SOLVE THE MODEL."
   ]
  },
  {
   "cell_type": "code",
   "execution_count": 1,
   "metadata": {},
   "outputs": [],
   "source": [
    "# code for solving the model (remember documentation and comments)\n",
    "import numpy as np\n",
    "import math \n",
    "from scipy import optimize\n",
    "import matplotlib.pyplot as plt"
   ]
  },
  {
   "cell_type": "code",
   "execution_count": null,
   "metadata": {},
   "outputs": [],
   "source": [
    "#define values for the variables\n",
    "m = 1\n",
    "v = 10\n",
    "e = 0.3\n",
    "t_0 = 0.4\n",
    "t_1 = 0.1\n",
    "k = 0.4\n",
    "#objection function\n",
    "def obj(c,l,v,e):\n",
    "    return np.log(c) - v*(l**(1+1/e))/(1+1/e)\n",
    "    \n",
    "#create a function for minimizing utility\n",
    "def u(l,m,w,v,e,t_0,t_1,k):\n",
    "    c = m + w*l-(t_0*w*l + t_1*max(w*l-k,0))\n",
    "    return -obj(c,l,v,e)\n",
    "\n",
    "#optimization problem \n",
    "def opt(w,m,v,e,t_0,t_1,k):\n",
    "    sol = optimize.minimize_scalar(u,bounds=(0,1),args=(w,m,v,e,t_0,t_1,k))\n",
    "    l = sol.x\n",
    "    c = m + w*l +(t_0*w*l + t_1*max(w*l-k,0))\n",
    "    return [c,l]"
   ]
  },
  {
   "cell_type": "markdown",
   "metadata": {},
   "source": [
    "# Question 2"
   ]
  },
  {
   "cell_type": "markdown",
   "metadata": {},
   "source": [
    "ADD ANSWER."
   ]
  },
  {
   "cell_type": "code",
   "execution_count": 3,
   "metadata": {},
   "outputs": [],
   "source": [
    "# create the empty list of optimal value of c and l \n",
    "ls = []\n",
    "cs = []\n",
    "n = 10000\n",
    "# loop through w from 0.5 to 1.5 with n values\n",
    "ws = np.linspace(0.5,1.5,n)\n",
    "for i in ws:\n",
    "    opt_value = opt(i,m,v,e,t_0,t_1,k)\n",
    "    cs.append(opt_value[0])\n",
    "    ls.append(opt_value[1])\n",
    "    \n",
    "# plot the figure\n",
    "%matplotlib inline\n",
    "fig = plt.figure(figsize=(10,4))\n",
    "ax_left = fig.add_subplot(1,2,1)\n",
    "ax_left.plot(ws,cs,color='Blue')\n",
    "\n",
    "ax_left.set_title('optimal c relate to w')\n",
    "ax_left.set_xlabel('w')\n",
    "ax_left.set_ylabel('optimal c')\n",
    "ax_left.grid(True)\n",
    "\n",
    "ax_right = fig.add_subplot(1,2,2)\n",
    "ax_right.plot(ws,ls,color='Red')\n",
    "\n",
    "ax_right.set_title('optimal l relate to w')\n",
    "ax_right.set_xlabel('w')\n",
    "ax_right.set_ylabel('optimal l')\n",
    "ax_right.grid(True)"
   ]
  },
  {
   "cell_type": "markdown",
   "metadata": {},
   "source": [
    "# Question 3"
   ]
  },
  {
   "cell_type": "markdown",
   "metadata": {},
   "source": [
    "ADD ANSWER."
   ]
  },
  {
   "cell_type": "code",
   "execution_count": 4,
   "metadata": {},
   "outputs": [],
   "source": [
    "# code"
   ]
  },
  {
   "cell_type": "markdown",
   "metadata": {},
   "source": [
    "# Question 4"
   ]
  },
  {
   "cell_type": "markdown",
   "metadata": {},
   "source": [
    "ADD ANSWER."
   ]
  },
  {
   "cell_type": "code",
   "execution_count": 5,
   "metadata": {},
   "outputs": [],
   "source": [
    "# code"
   ]
  },
  {
   "cell_type": "markdown",
   "metadata": {},
   "source": [
    "# Question 5"
   ]
  },
  {
   "cell_type": "markdown",
   "metadata": {},
   "source": [
    "ADD ANSWER."
   ]
  },
  {
   "cell_type": "code",
   "execution_count": 6,
   "metadata": {},
   "outputs": [],
   "source": [
    "# code"
   ]
  },
  {
   "cell_type": "markdown",
   "metadata": {},
   "source": [
    "# Conclusion"
   ]
  },
  {
   "cell_type": "markdown",
   "metadata": {},
   "source": [
    "ADD CONCISE CONLUSION."
   ]
  }
 ],
 "metadata": {
  "kernelspec": {
   "display_name": "Python 3",
   "language": "python",
   "name": "python3"
  },
  "language_info": {
   "codemirror_mode": {
    "name": "ipython",
    "version": 3
   },
   "file_extension": ".py",
   "mimetype": "text/x-python",
   "name": "python",
   "nbconvert_exporter": "python",
   "pygments_lexer": "ipython3",
   "version": "3.7.4-final"
  },
  "toc-autonumbering": true
 },
 "nbformat": 4,
 "nbformat_minor": 4
}
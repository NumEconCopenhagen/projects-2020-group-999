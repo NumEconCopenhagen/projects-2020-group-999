{
 "cells": [
  {
   "cell_type": "markdown",
   "metadata": {},
   "source": [
    "# Inaugural Project"
   ]
  },
  {
   "cell_type": "markdown",
   "metadata": {},
   "source": [
    "Imports and set magics:"
   ]
  },
  {
   "cell_type": "code",
   "execution_count": 1,
   "metadata": {},
   "outputs": [],
   "source": [
    "%load_ext autoreload\n",
    "%autoreload 2\n",
    "\n",
    "# Imports\n",
    "import numpy as np\n",
    "import scipy\n",
    "from scipy import optimize\n",
    "\n",
    "%matplotlib inline\n",
    "import matplotlib.pyplot as plt\n",
    "plt.style.use('seaborn')"
   ]
  },
  {
   "cell_type": "markdown",
   "metadata": {
    "toc-hr-collapsed": true
   },
   "source": [
    "## Question 1"
   ]
  },
  {
   "cell_type": "markdown",
   "metadata": {},
   "source": [
    "BRIEFLY EXPLAIN HOW YOU SOLVE THE MODEL."
   ]
  },
  {
   "cell_type": "code",
   "execution_count": 2,
   "metadata": {},
   "outputs": [],
   "source": [
    "#define values for all the variables\n",
    "m = 1\n",
    "nu = 10\n",
    "epsilon = 0.3\n",
    "tau_0 = 0.4\n",
    "tau_1 = 0.1\n",
    "kappa = 0.4\n",
    "w = 1"
   ]
  },
  {
   "cell_type": "markdown",
   "metadata": {},
   "source": [
    "Define objection function "
   ]
  },
  {
   "cell_type": "code",
   "execution_count": 3,
   "metadata": {},
   "outputs": [],
   "source": [
    "def utility(c,l,nu,epsilon):\n",
    "    u = np.log(c) - nu*(l**(1+1/epsilon))/(1+1/epsilon) \n",
    "    return u"
   ]
  },
  {
   "cell_type": "markdown",
   "metadata": {},
   "source": [
    "Define budget constraint"
   ]
  },
  {
   "cell_type": "code",
   "execution_count": 4,
   "metadata": {},
   "outputs": [],
   "source": [
    "def bc(m,w,tau_0,tau_1,kappa,l):\n",
    "    x = m + w*l - (tau_0*w*l + tau_1*max(w*l-kappa,0))\n",
    "    return x"
   ]
  },
  {
   "cell_type": "markdown",
   "metadata": {},
   "source": [
    "We create a function to maximize the utility "
   ]
  },
  {
   "cell_type": "code",
   "execution_count": 5,
   "metadata": {},
   "outputs": [],
   "source": [
    "def consumer_choice(l,m,w,nu,epsilon,tau_0,tau_1,kappa):\n",
    "    c = bc(m,w,tau_0,tau_1,kappa,l)\n",
    "    return -utility(c,l,nu,epsilon)"
   ]
  },
  {
   "cell_type": "code",
   "execution_count": 6,
   "metadata": {},
   "outputs": [],
   "source": [
    "def maximization(m,w,nu,epsilon,tau_0,tau_1,kappa):\n",
    "    sol = optimize.minimize_scalar(consumer_choice,method='bounded',bounds=(0,1),args=(m,w,nu,epsilon,tau_0,tau_1,kappa))\n",
    "    \n",
    "    l_opt = sol.x\n",
    "    c_opt = bc(m,w,tau_0,tau_1,kappa,l_opt)\n",
    "    u_opt = utility(c_opt,l_opt,nu,epsilon)\n",
    "    return l_opt,c_opt,u_opt"
   ]
  },
  {
   "cell_type": "markdown",
   "metadata": {},
   "source": [
    "## Question 2"
   ]
  },
  {
   "cell_type": "code",
   "execution_count": 7,
   "metadata": {},
   "outputs": [],
   "source": [
    "# set population N = 10000\n",
    "N = 10000\n",
    "\n",
    "# choose lower bound = 0.5, upper bound=1.5 and size=N\n",
    "ws = np.linspace(0.5,1.5,N)\n",
    "# create empty tuples for l and c\n",
    "ls = np.empty(N)\n",
    "cs = np.empty(N)\n",
    "\n",
    "for i,w in enumerate(ws):\n",
    "    sol_0 = maximization(m,w,nu,epsilon,tau_0,tau_1,kappa)\n",
    "    ls[i] = sol_0[0]\n",
    "    cs[i] = sol_0[1]"
   ]
  },
  {
   "cell_type": "code",
   "execution_count": 8,
   "metadata": {},
   "outputs": [
    {
     "data": {
      "image/png": "[encoded data removed]",
      "text/plain": [
       "<Figure size 720x288 with 2 Axes>"
      ]
     },
     "metadata": {
      "needs_background": "light"
     },
     "output_type": "display_data"
    }
   ],
   "source": [
    "# plot the figure\n",
    "fig = plt.figure(figsize=(10,4))\n",
    "ax_left = fig.add_subplot(1,2,1)\n",
    "ax_left.plot(ws,cs,color='Blue')\n",
    "\n",
    "ax_left.set_title('optimal c relate to w')\n",
    "ax_left.set_xlabel('w')\n",
    "ax_left.set_ylabel('optimal c')\n",
    "ax_left.grid(True)\n",
    "\n",
    "ax_right = fig.add_subplot(1,2,2)\n",
    "ax_right.plot(ws,ls,color='Red')\n",
    "\n",
    "ax_right.set_title('optimal l relate to w')\n",
    "ax_right.set_xlabel('w')\n",
    "ax_right.set_ylabel('optimal l')\n",
    "ax_right.grid(True)"
   ]
  },
  {
   "cell_type": "markdown",
   "metadata": {},
   "source": [
    "## Question 3"
   ]
  },
  {
   "cell_type": "code",
   "execution_count": 9,
   "metadata": {},
   "outputs": [
    {
     "name": "stdout",
     "output_type": "stream",
     "text": [
      "tax revenue 1630.1868725628688\n"
     ]
    }
   ],
   "source": [
    "# calculate the tax revenue T with uniformly distributed w from 0.5 to 1.5 \n",
    "def tax_revenue(m=1,w=1,nu=10,epsilon=0.3,t_0=0.4,t_1=0.1,kappa=0.4):\n",
    "    t = np.empty(N)\n",
    "    for i in range(N): # calculate tax revenue for each i \n",
    "        t[i] = t_0*ws[i]*ls[i] + t_1*max(ws[i]*ls[i]-kappa,0) # adding all the taxes collected from each i \n",
    "        T = sum(t)\n",
    "    return T\n",
    "\n",
    "print(\"tax revenue\" + \" \" + str(tax_revenue(i)))"
   ]
  },
  {
   "cell_type": "markdown",
   "metadata": {},
   "source": [
    "## Question 4"
   ]
  },
  {
   "cell_type": "code",
   "execution_count": 10,
   "metadata": {},
   "outputs": [
    {
     "name": "stdout",
     "output_type": "stream",
     "text": [
      "tax revenue 3184.6884325939127\n"
     ]
    }
   ],
   "source": [
    "w_new = np.linspace(0.5,1.5,N)\n",
    "# create empty tuples for l and c\n",
    "l_new = np.empty(N)\n",
    "c_new = np.empty(N)\n",
    "for i,w in enumerate(ws):\n",
    "    sol_1 = maximization(m=1,w=1,nu=10,epsilon=0.1,tau_0=0.4,tau_1=0.1,kappa=0.4)\n",
    "    l_new[i] = sol_1[0]\n",
    "    c_new[i] = sol_1[1]\n",
    "    \n",
    "# change e from 0.3 to 0.1\n",
    "def tax_revenue_0(m=1,w=1,nu=10,epsilon=0.1,t_0=0.4,t_1=0.1,kappa=0.4):\n",
    "    t_new = np.empty(N)\n",
    "    for i in range(N):\n",
    "        t_new[i] = t_0*w_new[i]*l_new[i] + t_1*max(w_new[i]*l_new[i]-kappa,0)\n",
    "        T_0 = sum(t_new)\n",
    "    return T_0\n",
    "print (\"tax revenue\" + \" \" + str(tax_revenue_0(i)))"
   ]
  },
  {
   "cell_type": "markdown",
   "metadata": {},
   "source": [
    "# Question 5"
   ]
  },
  {
   "cell_type": "code",
   "execution_count": 13,
   "metadata": {},
   "outputs": [],
   "source": [
    "# creating new tuples with 3 variables\n",
    "x = np.zeros(3)\n",
    "# define opt_tax_rev function which calculates the optimal tax revenue.\n",
    "def opt_tax_rev(x,m=1,w=1,nu=10,epsilon=0.3):\n",
    "    # define a vector x which includes tau_0,tau_1 and kappa\n",
    "    tau0_new = x[0]\n",
    "    tau1_new = x[1]\n",
    "    kappa_new = x[2]\n",
    "    \n",
    "    return -tax_revenue(m,w,nu,epsilon,tau0_new,tau1_new,kappa_new)"
   ]
  },
  {
   "cell_type": "code",
   "execution_count": 18,
   "metadata": {},
   "outputs": [
    {
     "name": "stdout",
     "output_type": "stream",
     "text": [
      "optimal tau_0 1.0\n",
      "optimal tau_1 1.0\n",
      "optimal kappa 0.0\n"
     ]
    }
   ],
   "source": [
    "# make initial guess for 3 variables\n",
    "initial_guess=[0.4,0.4,0.2]\n",
    "# set bounds for three variables\n",
    "bounds_0 = ((0,1),(0,1),(0,1))\n",
    "# solve maximization problem \n",
    "sol_2 = optimize.minimize(opt_tax_rev,initial_guess,method='L-BFGS-B',bounds=bounds_0,args=(m,w,nu,epsilon))\n",
    "\n",
    "# obtain optimal values\n",
    "t0_opt = sol_2.x[0]\n",
    "t1_opt = sol_2.x[1]\n",
    "kappa_opt = sol_2.x[2]\n",
    "\n",
    "#print solution \n",
    "print (\"optimal tau_0\"+ \" \" + str(t0_opt))\n",
    "print (\"optimal tau_1\"+ \" \" + str(t1_opt))\n",
    "print (\"optimal kappa\" + \" \" + str(kappa_opt))"
   ]
  },
  {
   "cell_type": "markdown",
   "metadata": {},
   "source": [
    "# Conclusion"
   ]
  },
  {
   "cell_type": "markdown",
   "metadata": {},
   "source": [
    "In question 1 and question 2 we have drawn the plot with changing values of c and l with respect to w. From the result of question 3 and question 4 we have found that by changing the value of epsilon from 0.3 to 0.1 the total tax revenues has increased from 1630 to 3184. In question 5 we have found that the optimal value for tau 0, tau1 and kappa are 1 and 1 and 2.07"
   ]
  }
 ],
 "metadata": {
  "kernelspec": {
   "display_name": "Python 3",
   "language": "python",
   "name": "python3"
  },
  "language_info": {
   "codemirror_mode": {
    "name": "ipython",
    "version": 3
   },
   "file_extension": ".py",
   "mimetype": "text/x-python",
   "name": "python",
   "nbconvert_exporter": "python",
   "pygments_lexer": "ipython3",
   "version": "3.7.3"
  },
  "toc-autonumbering": true
 },
 "nbformat": 4,
 "nbformat_minor": 4
}

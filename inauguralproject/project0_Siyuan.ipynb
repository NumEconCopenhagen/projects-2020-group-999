{
 "nbformat": 4,
 "nbformat_minor": 2,
 "metadata": {
  "language_info": {
   "name": "python",
   "codemirror_mode": {
    "name": "ipython",
    "version": 3
   }
  },
  "orig_nbformat": 2,
  "file_extension": ".py",
  "mimetype": "text/x-python",
  "name": "python",
  "npconvert_exporter": "python",
  "pygments_lexer": "ipython3",
  "version": 3
 },
 "cells": [
  {
   "cell_type": "code",
   "execution_count": null,
   "metadata": {},
   "outputs": [],
   "source": [
    "import numpy as np\n",
    "import math \n",
    "from scipy import optimize\n",
    "%matplotlib inline\n",
    "import matplotlib.pyplot as plt"
   ]
  },
  {
   "cell_type": "code",
   "execution_count": null,
   "metadata": {},
   "outputs": [],
   "source": [
    "#question 1 \n",
    "#define values for the variables\n",
    "m = 1\n",
    "v = 10\n",
    "e = 0.3\n",
    "t_0 = 0.4\n",
    "t_1 = 0.1\n",
    "k = 0.4\n",
    "#objection function\n",
    "def obj(c,l,v,e):\n",
    "    return np.log(c) - v*(l**(1+1/e))/(1+1/e)"
   ]
  },
  {
   "cell_type": "code",
   "execution_count": null,
   "metadata": {},
   "outputs": [],
   "source": [
    "#create a function for minimizing utility\n",
    "def u(l,m,w,v,e,t_0,t_1,k):\n",
    "    c = m + w*l-(t_0*w*l + t_1*max(w*l-k,0))\n",
    "    return -obj(c,l,v,e)"
   ]
  },
  {
   "cell_type": "code",
   "execution_count": null,
   "metadata": {},
   "outputs": [],
   "source": []
  }
 ]
}